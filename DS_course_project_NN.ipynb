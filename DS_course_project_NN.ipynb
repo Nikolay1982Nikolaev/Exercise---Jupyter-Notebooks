{
 "cells": [
  {
   "cell_type": "code",
   "execution_count": 173,
   "metadata": {},
   "outputs": [],
   "source": [
    "%matplotlib inline"
   ]
  },
  {
   "cell_type": "code",
   "execution_count": 174,
   "metadata": {},
   "outputs": [],
   "source": [
    "import numpy as np               # linear algebra\n",
    "import pandas as pd              #data processing, CSV file I/O (e.g. pd.read_csv)\n",
    "import matplotlib.pyplot as plt  # visualization\n",
    "import seaborn as sns            # \n",
    "import warnings\n",
    "warnings.filterwarnings('ignore')"
   ]
  },
  {
   "cell_type": "markdown",
   "metadata": {},
   "source": [
    "# Course Project"
   ]
  },
  {
   "cell_type": "markdown",
   "metadata": {},
   "source": [
    "# Name: Nikolay Nikolaev"
   ]
  },
  {
   "cell_type": "markdown",
   "metadata": {},
   "source": [
    "# Argument"
   ]
  },
  {
   "cell_type": "markdown",
   "metadata": {},
   "source": [
    "# Abstract\n",
    " TODO"
   ]
  },
  {
   "cell_type": "markdown",
   "metadata": {},
   "source": [
    "# 1.Read the Dataset"
   ]
  },
  {
   "cell_type": "markdown",
   "metadata": {},
   "source": [
    "ATTRIBUTE INFORMATION:\n",
    "\n",
    "Thirteen (13) clinical features:\n",
    "- age: age of the patient (years)\n",
    "- anaemia: decrease of red blood cells or hemoglobin (boolean)\n",
    "- high blood pressure: if the patient has hypertension (boolean)\n",
    "- creatinine phosphokinase (CPK): level of the CPK enzyme in the blood (mcg/L)\n",
    "- diabetes: if the patient has diabetes (boolean)\n",
    "- ejection fraction: percentage of blood leaving the heart at each contraction (percentage)\n",
    "- platelets: platelets in the blood (kiloplatelets/mL)\n",
    "- sex: woman or man (binary)\n",
    "- serum creatinine: level of serum creatinine in the blood (mg/dL)\n",
    "- serum sodium: level of serum sodium in the blood (mEq/L)\n",
    "- smoking: if the patient smokes or not (boolean)\n",
    "- time: follow-up period (days)\n",
    "- [target] death event: if the patient deceased during the follow-up period (boolean)"
   ]
  },
  {
   "cell_type": "code",
   "execution_count": 176,
   "metadata": {},
   "outputs": [
    {
     "data": {
      "text/html": [
       "<div>\n",
       "<style scoped>\n",
       "    .dataframe tbody tr th:only-of-type {\n",
       "        vertical-align: middle;\n",
       "    }\n",
       "\n",
       "    .dataframe tbody tr th {\n",
       "        vertical-align: top;\n",
       "    }\n",
       "\n",
       "    .dataframe thead th {\n",
       "        text-align: right;\n",
       "    }\n",
       "</style>\n",
       "<table border=\"1\" class=\"dataframe\">\n",
       "  <thead>\n",
       "    <tr style=\"text-align: right;\">\n",
       "      <th></th>\n",
       "      <th>age</th>\n",
       "      <th>anaemia</th>\n",
       "      <th>creatinine_phosphokinase</th>\n",
       "      <th>diabetes</th>\n",
       "      <th>ejection_fraction</th>\n",
       "      <th>high_blood_pressure</th>\n",
       "      <th>platelets</th>\n",
       "      <th>serum_creatinine</th>\n",
       "      <th>serum_sodium</th>\n",
       "      <th>sex</th>\n",
       "      <th>smoking</th>\n",
       "      <th>time</th>\n",
       "      <th>DEATH_EVENT</th>\n",
       "    </tr>\n",
       "  </thead>\n",
       "  <tbody>\n",
       "    <tr>\n",
       "      <td>0</td>\n",
       "      <td>75.0</td>\n",
       "      <td>0</td>\n",
       "      <td>582</td>\n",
       "      <td>0</td>\n",
       "      <td>20</td>\n",
       "      <td>1</td>\n",
       "      <td>265000.00</td>\n",
       "      <td>1.9</td>\n",
       "      <td>130</td>\n",
       "      <td>1</td>\n",
       "      <td>0</td>\n",
       "      <td>4</td>\n",
       "      <td>1</td>\n",
       "    </tr>\n",
       "    <tr>\n",
       "      <td>1</td>\n",
       "      <td>55.0</td>\n",
       "      <td>0</td>\n",
       "      <td>7861</td>\n",
       "      <td>0</td>\n",
       "      <td>38</td>\n",
       "      <td>0</td>\n",
       "      <td>263358.03</td>\n",
       "      <td>1.1</td>\n",
       "      <td>136</td>\n",
       "      <td>1</td>\n",
       "      <td>0</td>\n",
       "      <td>6</td>\n",
       "      <td>1</td>\n",
       "    </tr>\n",
       "    <tr>\n",
       "      <td>2</td>\n",
       "      <td>65.0</td>\n",
       "      <td>0</td>\n",
       "      <td>146</td>\n",
       "      <td>0</td>\n",
       "      <td>20</td>\n",
       "      <td>0</td>\n",
       "      <td>162000.00</td>\n",
       "      <td>1.3</td>\n",
       "      <td>129</td>\n",
       "      <td>1</td>\n",
       "      <td>1</td>\n",
       "      <td>7</td>\n",
       "      <td>1</td>\n",
       "    </tr>\n",
       "    <tr>\n",
       "      <td>3</td>\n",
       "      <td>50.0</td>\n",
       "      <td>1</td>\n",
       "      <td>111</td>\n",
       "      <td>0</td>\n",
       "      <td>20</td>\n",
       "      <td>0</td>\n",
       "      <td>210000.00</td>\n",
       "      <td>1.9</td>\n",
       "      <td>137</td>\n",
       "      <td>1</td>\n",
       "      <td>0</td>\n",
       "      <td>7</td>\n",
       "      <td>1</td>\n",
       "    </tr>\n",
       "    <tr>\n",
       "      <td>4</td>\n",
       "      <td>65.0</td>\n",
       "      <td>1</td>\n",
       "      <td>160</td>\n",
       "      <td>1</td>\n",
       "      <td>20</td>\n",
       "      <td>0</td>\n",
       "      <td>327000.00</td>\n",
       "      <td>2.7</td>\n",
       "      <td>116</td>\n",
       "      <td>0</td>\n",
       "      <td>0</td>\n",
       "      <td>8</td>\n",
       "      <td>1</td>\n",
       "    </tr>\n",
       "  </tbody>\n",
       "</table>\n",
       "</div>"
      ],
      "text/plain": [
       "    age  anaemia  creatinine_phosphokinase  diabetes  ejection_fraction  \\\n",
       "0  75.0        0                       582         0                 20   \n",
       "1  55.0        0                      7861         0                 38   \n",
       "2  65.0        0                       146         0                 20   \n",
       "3  50.0        1                       111         0                 20   \n",
       "4  65.0        1                       160         1                 20   \n",
       "\n",
       "   high_blood_pressure  platelets  serum_creatinine  serum_sodium  sex  \\\n",
       "0                    1  265000.00               1.9           130    1   \n",
       "1                    0  263358.03               1.1           136    1   \n",
       "2                    0  162000.00               1.3           129    1   \n",
       "3                    0  210000.00               1.9           137    1   \n",
       "4                    0  327000.00               2.7           116    0   \n",
       "\n",
       "   smoking  time  DEATH_EVENT  \n",
       "0        0     4            1  \n",
       "1        0     6            1  \n",
       "2        1     7            1  \n",
       "3        0     7            1  \n",
       "4        0     8            1  "
      ]
     },
     "execution_count": 176,
     "metadata": {},
     "output_type": "execute_result"
    }
   ],
   "source": [
    "file_path = \"datasets/heart_failure_clinical_records_dataset.csv\"\n",
    "raw_data = pd.read_csv(file_path)\n",
    "raw_data.head()"
   ]
  },
  {
   "cell_type": "code",
   "execution_count": 177,
   "metadata": {},
   "outputs": [
    {
     "name": "stdout",
     "output_type": "stream",
     "text": [
      "Thare are: 299-rows and 13-columns.\n"
     ]
    }
   ],
   "source": [
    "rows, cols = raw_data.shape\n",
    "print(f\"Thare are: {rows}-rows and {cols}-columns.\")"
   ]
  },
  {
   "cell_type": "markdown",
   "metadata": {},
   "source": [
    "# 2.Inspect and fill misssing data"
   ]
  },
  {
   "cell_type": "code",
   "execution_count": 202,
   "metadata": {},
   "outputs": [
    {
     "name": "stdout",
     "output_type": "stream",
     "text": [
      "<class 'pandas.core.frame.DataFrame'>\n",
      "RangeIndex: 299 entries, 0 to 298\n",
      "Data columns (total 14 columns):\n",
      "age                         299 non-null float64\n",
      "anaemia                     299 non-null int64\n",
      "creatinine_phosphokinase    299 non-null int64\n",
      "diabetes                    299 non-null int64\n",
      "ejection_fraction           299 non-null int64\n",
      "high_blood_pressure         299 non-null int64\n",
      "platelets                   299 non-null float64\n",
      "serum_creatinine            299 non-null float64\n",
      "serum_sodium                299 non-null int64\n",
      "sex                         299 non-null int64\n",
      "smoking                     299 non-null int64\n",
      "time                        299 non-null int64\n",
      "DEATH_EVENT                 299 non-null int64\n",
      "death_event                 299 non-null int64\n",
      "dtypes: float64(3), int64(11)\n",
      "memory usage: 32.8 KB\n"
     ]
    }
   ],
   "source": [
    "# Checking information of data set\n",
    "raw_data.info()"
   ]
  },
  {
   "cell_type": "code",
   "execution_count": 217,
   "metadata": {},
   "outputs": [],
   "source": [
    "raw_data['death_event'] = raw_data['DEATH_EVENT'] \n",
    "raw_data.drop(['DEATH_EVENT'], axis=1, inplace=True)"
   ]
  },
  {
   "cell_type": "code",
   "execution_count": 218,
   "metadata": {},
   "outputs": [
    {
     "name": "stdout",
     "output_type": "stream",
     "text": [
      "In age column 0.00 % values are null\n",
      "In anaemia column 0.00 % values are null\n",
      "In creatinine_phosphokinase column 0.00 % values are null\n",
      "In diabetes column 0.00 % values are null\n",
      "In ejection_fraction column 0.00 % values are null\n",
      "In high_blood_pressure column 0.00 % values are null\n",
      "In platelets column 0.00 % values are null\n",
      "In serum_creatinine column 0.00 % values are null\n",
      "In serum_sodium column 0.00 % values are null\n",
      "In sex column 0.00 % values are null\n",
      "In smoking column 0.00 % values are null\n",
      "In time column 0.00 % values are null\n",
      "In death_event column 0.00 % values are null\n"
     ]
    }
   ],
   "source": [
    "# make finction to explare how many missing values thare are \n",
    "def definition_missing_data(data_set):\n",
    "    for column in data_set.columns:\n",
    "        null_values = data_set[column].isnull().sum()\n",
    "        total_values = data_set.shape[0]\n",
    "        percent = (null_values/ total_values)*100\n",
    "        print(f\"In {column} column {percent:.2f} % values are null\")\n",
    "        \n",
    "definition_missing_data(raw_data)"
   ]
  },
  {
   "cell_type": "code",
   "execution_count": 205,
   "metadata": {},
   "outputs": [],
   "source": [
    "# Gread. DOn't have null values"
   ]
  },
  {
   "cell_type": "code",
   "execution_count": 181,
   "metadata": {},
   "outputs": [],
   "source": [
    "# All columns have numerical value"
   ]
  },
  {
   "cell_type": "code",
   "execution_count": 182,
   "metadata": {},
   "outputs": [
    {
     "data": {
      "text/plain": [
       "['age',\n",
       " 'anaemia',\n",
       " 'creatinine_phosphokinase',\n",
       " 'diabetes',\n",
       " 'ejection_fraction',\n",
       " 'high_blood_pressure',\n",
       " 'platelets',\n",
       " 'serum_creatinine',\n",
       " 'serum_sodium',\n",
       " 'sex',\n",
       " 'smoking',\n",
       " 'time',\n",
       " 'death_event']"
      ]
     },
     "execution_count": 182,
     "metadata": {},
     "output_type": "execute_result"
    }
   ],
   "source": [
    "columns = list(raw_data.columns)\n",
    "columns = [col.lower() for col in columns]\n",
    "columns"
   ]
  },
  {
   "cell_type": "markdown",
   "metadata": {},
   "source": [
    "# 3.Removing unnecessary columns"
   ]
  },
  {
   "cell_type": "code",
   "execution_count": 184,
   "metadata": {},
   "outputs": [],
   "source": [
    "all_ages = raw_data['age']\n",
    "num_patient_by_sex = raw_data.groupby('sex').size()"
   ]
  },
  {
   "cell_type": "markdown",
   "metadata": {},
   "source": [
    "# 4.Explore the data: single variables"
   ]
  },
  {
   "cell_type": "code",
   "execution_count": 222,
   "metadata": {},
   "outputs": [
    {
     "data": {
      "text/plain": [
       "0    203\n",
       "1     94\n",
       "Name: death_event, dtype: int64"
      ]
     },
     "execution_count": 222,
     "metadata": {},
     "output_type": "execute_result"
    }
   ],
   "source": [
    "raw_data.death_event.value_counts()"
   ]
  },
  {
   "cell_type": "code",
   "execution_count": null,
   "metadata": {},
   "outputs": [],
   "source": []
  },
  {
   "cell_type": "code",
   "execution_count": null,
   "metadata": {},
   "outputs": [],
   "source": []
  },
  {
   "cell_type": "code",
   "execution_count": 194,
   "metadata": {},
   "outputs": [
    {
     "data": {
      "image/png": "[encoded data removed]",
      "text/plain": [
       "<Figure size 432x288 with 1 Axes>"
      ]
     },
     "metadata": {
      "needs_background": "light"
     },
     "output_type": "display_data"
    }
   ],
   "source": [
    "plt.hist(all_ages, bins=10)\n",
    "plt.title('Distribution of ages\\n')\n",
    "plt.xlabel('Age')\n",
    "plt.show()"
   ]
  },
  {
   "cell_type": "code",
   "execution_count": 196,
   "metadata": {},
   "outputs": [
    {
     "data": {
      "image/png": "[encoded data removed]",
      "text/plain": [
       "<Figure size 432x288 with 1 Axes>"
      ]
     },
     "metadata": {},
     "output_type": "display_data"
    }
   ],
   "source": [
    "plt.gca().set_aspect('equal')\n",
    "plt.pie(num_patient_by_sex, labels=num_patient_by_sex.index, autopct=\"%.2f%%\")\n",
    "plt.title('Patient per sex', color='white')\n",
    "plt.show()"
   ]
  },
  {
   "cell_type": "code",
   "execution_count": 255,
   "metadata": {},
   "outputs": [
    {
     "data": {
      "text/plain": [
       "Index(['age', 'anaemia', 'creatinine_phosphokinase', 'diabetes',\n",
       "       'ejection_fraction', 'high_blood_pressure', 'platelets',\n",
       "       'serum_creatinine', 'serum_sodium', 'sex', 'smoking', 'time',\n",
       "       'death_event'],\n",
       "      dtype='object')"
      ]
     },
     "execution_count": 255,
     "metadata": {},
     "output_type": "execute_result"
    }
   ],
   "source": [
    "raw_data.columns"
   ]
  },
  {
   "cell_type": "code",
   "execution_count": null,
   "metadata": {},
   "outputs": [],
   "source": [
    "numerical_vars = ['age', 'anaemia', 'creatinine_phosphokinase', 'diabetes',\n",
    "       'ejection_fraction', 'high_blood_pressure', 'platelets',\n",
    "       'serum_creatinine', 'serum_sodium', 'sex', 'smoking', 'time',\n",
    "       'death_event']\n",
    "for v in numerical_vars:\n",
    "    "
   ]
  },
  {
   "cell_type": "markdown",
   "metadata": {},
   "source": [
    "# 5.Explore correlations in the dataset and Feature Selection"
   ]
  },
  {
   "cell_type": "code",
   "execution_count": 241,
   "metadata": {},
   "outputs": [
    {
     "data": {
      "text/html": [
       "<div>\n",
       "<style scoped>\n",
       "    .dataframe tbody tr th:only-of-type {\n",
       "        vertical-align: middle;\n",
       "    }\n",
       "\n",
       "    .dataframe tbody tr th {\n",
       "        vertical-align: top;\n",
       "    }\n",
       "\n",
       "    .dataframe thead th {\n",
       "        text-align: right;\n",
       "    }\n",
       "</style>\n",
       "<table border=\"1\" class=\"dataframe\">\n",
       "  <thead>\n",
       "    <tr style=\"text-align: right;\">\n",
       "      <th></th>\n",
       "      <th>age</th>\n",
       "      <th>anaemia</th>\n",
       "      <th>creatinine_phosphokinase</th>\n",
       "      <th>diabetes</th>\n",
       "      <th>ejection_fraction</th>\n",
       "      <th>high_blood_pressure</th>\n",
       "      <th>platelets</th>\n",
       "      <th>serum_creatinine</th>\n",
       "      <th>serum_sodium</th>\n",
       "      <th>sex</th>\n",
       "      <th>smoking</th>\n",
       "      <th>time</th>\n",
       "      <th>death_event</th>\n",
       "    </tr>\n",
       "  </thead>\n",
       "  <tbody>\n",
       "    <tr>\n",
       "      <td>age</td>\n",
       "      <td>1.000000</td>\n",
       "      <td>0.090548</td>\n",
       "      <td>-0.077188</td>\n",
       "      <td>-0.099528</td>\n",
       "      <td>0.066653</td>\n",
       "      <td>0.087244</td>\n",
       "      <td>-0.052568</td>\n",
       "      <td>0.157286</td>\n",
       "      <td>-0.040453</td>\n",
       "      <td>0.063986</td>\n",
       "      <td>0.020382</td>\n",
       "      <td>-0.222761</td>\n",
       "      <td>0.252800</td>\n",
       "    </tr>\n",
       "    <tr>\n",
       "      <td>anaemia</td>\n",
       "      <td>0.090548</td>\n",
       "      <td>1.000000</td>\n",
       "      <td>-0.187867</td>\n",
       "      <td>-0.017789</td>\n",
       "      <td>0.027224</td>\n",
       "      <td>0.040275</td>\n",
       "      <td>-0.043848</td>\n",
       "      <td>0.052940</td>\n",
       "      <td>0.037292</td>\n",
       "      <td>-0.090851</td>\n",
       "      <td>-0.111787</td>\n",
       "      <td>-0.152633</td>\n",
       "      <td>0.075532</td>\n",
       "    </tr>\n",
       "    <tr>\n",
       "      <td>creatinine_phosphokinase</td>\n",
       "      <td>-0.077188</td>\n",
       "      <td>-0.187867</td>\n",
       "      <td>1.000000</td>\n",
       "      <td>0.013147</td>\n",
       "      <td>-0.048811</td>\n",
       "      <td>-0.058164</td>\n",
       "      <td>0.027172</td>\n",
       "      <td>-0.010307</td>\n",
       "      <td>0.070536</td>\n",
       "      <td>0.068076</td>\n",
       "      <td>0.022052</td>\n",
       "      <td>0.035003</td>\n",
       "      <td>0.029014</td>\n",
       "    </tr>\n",
       "    <tr>\n",
       "      <td>diabetes</td>\n",
       "      <td>-0.099528</td>\n",
       "      <td>-0.017789</td>\n",
       "      <td>0.013147</td>\n",
       "      <td>1.000000</td>\n",
       "      <td>-0.009297</td>\n",
       "      <td>-0.011024</td>\n",
       "      <td>0.092465</td>\n",
       "      <td>-0.046526</td>\n",
       "      <td>-0.094841</td>\n",
       "      <td>-0.154184</td>\n",
       "      <td>-0.151707</td>\n",
       "      <td>0.024777</td>\n",
       "      <td>0.006418</td>\n",
       "    </tr>\n",
       "    <tr>\n",
       "      <td>ejection_fraction</td>\n",
       "      <td>0.066653</td>\n",
       "      <td>0.027224</td>\n",
       "      <td>-0.048811</td>\n",
       "      <td>-0.009297</td>\n",
       "      <td>1.000000</td>\n",
       "      <td>0.031647</td>\n",
       "      <td>0.072550</td>\n",
       "      <td>-0.008837</td>\n",
       "      <td>0.169487</td>\n",
       "      <td>-0.145414</td>\n",
       "      <td>-0.071269</td>\n",
       "      <td>0.033724</td>\n",
       "      <td>-0.263993</td>\n",
       "    </tr>\n",
       "    <tr>\n",
       "      <td>high_blood_pressure</td>\n",
       "      <td>0.087244</td>\n",
       "      <td>0.040275</td>\n",
       "      <td>-0.058164</td>\n",
       "      <td>-0.011024</td>\n",
       "      <td>0.031647</td>\n",
       "      <td>1.000000</td>\n",
       "      <td>0.050088</td>\n",
       "      <td>-0.007900</td>\n",
       "      <td>0.043953</td>\n",
       "      <td>-0.106781</td>\n",
       "      <td>-0.054573</td>\n",
       "      <td>-0.195458</td>\n",
       "      <td>0.077156</td>\n",
       "    </tr>\n",
       "    <tr>\n",
       "      <td>platelets</td>\n",
       "      <td>-0.052568</td>\n",
       "      <td>-0.043848</td>\n",
       "      <td>0.027172</td>\n",
       "      <td>0.092465</td>\n",
       "      <td>0.072550</td>\n",
       "      <td>0.050088</td>\n",
       "      <td>1.000000</td>\n",
       "      <td>-0.041248</td>\n",
       "      <td>0.062449</td>\n",
       "      <td>-0.125391</td>\n",
       "      <td>0.028319</td>\n",
       "      <td>0.010701</td>\n",
       "      <td>-0.049575</td>\n",
       "    </tr>\n",
       "    <tr>\n",
       "      <td>serum_creatinine</td>\n",
       "      <td>0.157286</td>\n",
       "      <td>0.052940</td>\n",
       "      <td>-0.010307</td>\n",
       "      <td>-0.046526</td>\n",
       "      <td>-0.008837</td>\n",
       "      <td>-0.007900</td>\n",
       "      <td>-0.041248</td>\n",
       "      <td>1.000000</td>\n",
       "      <td>-0.187582</td>\n",
       "      <td>0.006476</td>\n",
       "      <td>-0.026996</td>\n",
       "      <td>-0.149565</td>\n",
       "      <td>0.295541</td>\n",
       "    </tr>\n",
       "    <tr>\n",
       "      <td>serum_sodium</td>\n",
       "      <td>-0.040453</td>\n",
       "      <td>0.037292</td>\n",
       "      <td>0.070536</td>\n",
       "      <td>-0.094841</td>\n",
       "      <td>0.169487</td>\n",
       "      <td>0.043953</td>\n",
       "      <td>0.062449</td>\n",
       "      <td>-0.187582</td>\n",
       "      <td>1.000000</td>\n",
       "      <td>-0.023622</td>\n",
       "      <td>0.001007</td>\n",
       "      <td>0.079629</td>\n",
       "      <td>-0.189218</td>\n",
       "    </tr>\n",
       "    <tr>\n",
       "      <td>sex</td>\n",
       "      <td>0.063986</td>\n",
       "      <td>-0.090851</td>\n",
       "      <td>0.068076</td>\n",
       "      <td>-0.154184</td>\n",
       "      <td>-0.145414</td>\n",
       "      <td>-0.106781</td>\n",
       "      <td>-0.125391</td>\n",
       "      <td>0.006476</td>\n",
       "      <td>-0.023622</td>\n",
       "      <td>1.000000</td>\n",
       "      <td>0.450838</td>\n",
       "      <td>-0.007681</td>\n",
       "      <td>-0.011625</td>\n",
       "    </tr>\n",
       "    <tr>\n",
       "      <td>smoking</td>\n",
       "      <td>0.020382</td>\n",
       "      <td>-0.111787</td>\n",
       "      <td>0.022052</td>\n",
       "      <td>-0.151707</td>\n",
       "      <td>-0.071269</td>\n",
       "      <td>-0.054573</td>\n",
       "      <td>0.028319</td>\n",
       "      <td>-0.026996</td>\n",
       "      <td>0.001007</td>\n",
       "      <td>0.450838</td>\n",
       "      <td>1.000000</td>\n",
       "      <td>-0.030644</td>\n",
       "      <td>-0.005941</td>\n",
       "    </tr>\n",
       "    <tr>\n",
       "      <td>time</td>\n",
       "      <td>-0.222761</td>\n",
       "      <td>-0.152633</td>\n",
       "      <td>0.035003</td>\n",
       "      <td>0.024777</td>\n",
       "      <td>0.033724</td>\n",
       "      <td>-0.195458</td>\n",
       "      <td>0.010701</td>\n",
       "      <td>-0.149565</td>\n",
       "      <td>0.079629</td>\n",
       "      <td>-0.007681</td>\n",
       "      <td>-0.030644</td>\n",
       "      <td>1.000000</td>\n",
       "      <td>-0.519403</td>\n",
       "    </tr>\n",
       "    <tr>\n",
       "      <td>death_event</td>\n",
       "      <td>0.252800</td>\n",
       "      <td>0.075532</td>\n",
       "      <td>0.029014</td>\n",
       "      <td>0.006418</td>\n",
       "      <td>-0.263993</td>\n",
       "      <td>0.077156</td>\n",
       "      <td>-0.049575</td>\n",
       "      <td>0.295541</td>\n",
       "      <td>-0.189218</td>\n",
       "      <td>-0.011625</td>\n",
       "      <td>-0.005941</td>\n",
       "      <td>-0.519403</td>\n",
       "      <td>1.000000</td>\n",
       "    </tr>\n",
       "  </tbody>\n",
       "</table>\n",
       "</div>"
      ],
      "text/plain": [
       "                               age   anaemia  creatinine_phosphokinase  \\\n",
       "age                       1.000000  0.090548                 -0.077188   \n",
       "anaemia                   0.090548  1.000000                 -0.187867   \n",
       "creatinine_phosphokinase -0.077188 -0.187867                  1.000000   \n",
       "diabetes                 -0.099528 -0.017789                  0.013147   \n",
       "ejection_fraction         0.066653  0.027224                 -0.048811   \n",
       "high_blood_pressure       0.087244  0.040275                 -0.058164   \n",
       "platelets                -0.052568 -0.043848                  0.027172   \n",
       "serum_creatinine          0.157286  0.052940                 -0.010307   \n",
       "serum_sodium             -0.040453  0.037292                  0.070536   \n",
       "sex                       0.063986 -0.090851                  0.068076   \n",
       "smoking                   0.020382 -0.111787                  0.022052   \n",
       "time                     -0.222761 -0.152633                  0.035003   \n",
       "death_event               0.252800  0.075532                  0.029014   \n",
       "\n",
       "                          diabetes  ejection_fraction  high_blood_pressure  \\\n",
       "age                      -0.099528           0.066653             0.087244   \n",
       "anaemia                  -0.017789           0.027224             0.040275   \n",
       "creatinine_phosphokinase  0.013147          -0.048811            -0.058164   \n",
       "diabetes                  1.000000          -0.009297            -0.011024   \n",
       "ejection_fraction        -0.009297           1.000000             0.031647   \n",
       "high_blood_pressure      -0.011024           0.031647             1.000000   \n",
       "platelets                 0.092465           0.072550             0.050088   \n",
       "serum_creatinine         -0.046526          -0.008837            -0.007900   \n",
       "serum_sodium             -0.094841           0.169487             0.043953   \n",
       "sex                      -0.154184          -0.145414            -0.106781   \n",
       "smoking                  -0.151707          -0.071269            -0.054573   \n",
       "time                      0.024777           0.033724            -0.195458   \n",
       "death_event               0.006418          -0.263993             0.077156   \n",
       "\n",
       "                          platelets  serum_creatinine  serum_sodium       sex  \\\n",
       "age                       -0.052568          0.157286     -0.040453  0.063986   \n",
       "anaemia                   -0.043848          0.052940      0.037292 -0.090851   \n",
       "creatinine_phosphokinase   0.027172         -0.010307      0.070536  0.068076   \n",
       "diabetes                   0.092465         -0.046526     -0.094841 -0.154184   \n",
       "ejection_fraction          0.072550         -0.008837      0.169487 -0.145414   \n",
       "high_blood_pressure        0.050088         -0.007900      0.043953 -0.106781   \n",
       "platelets                  1.000000         -0.041248      0.062449 -0.125391   \n",
       "serum_creatinine          -0.041248          1.000000     -0.187582  0.006476   \n",
       "serum_sodium               0.062449         -0.187582      1.000000 -0.023622   \n",
       "sex                       -0.125391          0.006476     -0.023622  1.000000   \n",
       "smoking                    0.028319         -0.026996      0.001007  0.450838   \n",
       "time                       0.010701         -0.149565      0.079629 -0.007681   \n",
       "death_event               -0.049575          0.295541     -0.189218 -0.011625   \n",
       "\n",
       "                           smoking      time  death_event  \n",
       "age                       0.020382 -0.222761     0.252800  \n",
       "anaemia                  -0.111787 -0.152633     0.075532  \n",
       "creatinine_phosphokinase  0.022052  0.035003     0.029014  \n",
       "diabetes                 -0.151707  0.024777     0.006418  \n",
       "ejection_fraction        -0.071269  0.033724    -0.263993  \n",
       "high_blood_pressure      -0.054573 -0.195458     0.077156  \n",
       "platelets                 0.028319  0.010701    -0.049575  \n",
       "serum_creatinine         -0.026996 -0.149565     0.295541  \n",
       "serum_sodium              0.001007  0.079629    -0.189218  \n",
       "sex                       0.450838 -0.007681    -0.011625  \n",
       "smoking                   1.000000 -0.030644    -0.005941  \n",
       "time                     -0.030644  1.000000    -0.519403  \n",
       "death_event              -0.005941 -0.519403     1.000000  "
      ]
     },
     "execution_count": 241,
     "metadata": {},
     "output_type": "execute_result"
    }
   ],
   "source": [
    "raw_data.corr()"
   ]
  },
  {
   "cell_type": "code",
   "execution_count": 244,
   "metadata": {},
   "outputs": [],
   "source": [
    "correlation_values = raw_data.corr()"
   ]
  },
  {
   "cell_type": "code",
   "execution_count": 243,
   "metadata": {},
   "outputs": [],
   "source": [
    "top_corre_features = correlation_values.index"
   ]
  },
  {
   "cell_type": "code",
   "execution_count": 247,
   "metadata": {},
   "outputs": [
    {
     "data": {
      "image/png": "[encoded data removed]",
      "text/plain": [
       "<Figure size 1080x1080 with 2 Axes>"
      ]
     },
     "metadata": {
      "needs_background": "light"
     },
     "output_type": "display_data"
    }
   ],
   "source": [
    "plt.figure(figsize=(15,15))\n",
    "#plot heat map\n",
    "g = sns.heatmap(raw_data[top_correlation_features].corr(), annot=True, cmap='RdYlGn')\n",
    "plt.show()"
   ]
  },
  {
   "cell_type": "code",
   "execution_count": 224,
   "metadata": {},
   "outputs": [],
   "source": [
    "death_patient = raw_data[raw_data['death_event'] == 0].groupby('sex').size()"
   ]
  },
  {
   "cell_type": "code",
   "execution_count": 225,
   "metadata": {},
   "outputs": [
    {
     "data": {
      "text/plain": [
       "sex\n",
       "0     71\n",
       "1    132\n",
       "dtype: int64"
      ]
     },
     "execution_count": 225,
     "metadata": {},
     "output_type": "execute_result"
    }
   ],
   "source": [
    "death_patient"
   ]
  },
  {
   "cell_type": "code",
   "execution_count": 228,
   "metadata": {},
   "outputs": [],
   "source": [
    "#print(\"Death men: {} / {}, {:.2f}%\".format(death_patient.\"1\", num_patient_by_sex.\"1\", death_patient.1 / num_patient_by_sex.\"1\" * 100))\n",
    "#print(\"Death women: {} / {}, {:.2f}%\".format(death_patient.0, num_patient_by_sex.0, death_patient.0 / num_patient_by_sex.0 * 100))"
   ]
  },
  {
   "cell_type": "code",
   "execution_count": 233,
   "metadata": {},
   "outputs": [
    {
     "data": {
      "text/plain": [
       "<AxesSubplot:xlabel='smoking', ylabel='count'>"
      ]
     },
     "execution_count": 233,
     "metadata": {},
     "output_type": "execute_result"
    },
    {
     "data": {
      "image/png": "[encoded data removed]",
      "text/plain": [
       "<Figure size 432x288 with 1 Axes>"
      ]
     },
     "metadata": {
      "needs_background": "light"
     },
     "output_type": "display_data"
    }
   ],
   "source": [
    "# ........\n",
    "#ages_by_smoking = raw_data.groupby('smoking')['age']\n",
    "sns.countplot(x= 'smoking', data=raw_data)"
   ]
  },
  {
   "cell_type": "code",
   "execution_count": null,
   "metadata": {},
   "outputs": [],
   "source": [
    "for passenger_class, ages in ages_by_class:\n",
    "    plt.hist(ages, label = \"Class {}\".format(passenger_class), alpha = 0.7)\n",
    "plt.title(\"Distribution of passenger ages per class\")\n",
    "plt.legend()\n",
    "plt.show()"
   ]
  },
  {
   "cell_type": "code",
   "execution_count": null,
   "metadata": {},
   "outputs": [],
   "source": []
  },
  {
   "cell_type": "code",
   "execution_count": null,
   "metadata": {},
   "outputs": [],
   "source": []
  },
  {
   "cell_type": "markdown",
   "metadata": {},
   "source": [
    "# 6.Perform hypothesis testing on smoking vs diabets vs high blod presure"
   ]
  },
  {
   "cell_type": "code",
   "execution_count": null,
   "metadata": {},
   "outputs": [],
   "source": [
    "# to see about men and women\n",
    "#third_class_ages = ages_by_class.get_group(3)\n",
    "women_\n",
    "ttes"
   ]
  },
  {
   "cell_type": "markdown",
   "metadata": {},
   "source": [
    "What is hypothesis?\n",
    "\n",
    "What is hypotehsis testing?\n",
    "\n",
    "The \"null hypothesis\" (\\H_0)"
   ]
  },
  {
   "cell_type": "code",
   "execution_count": null,
   "metadata": {},
   "outputs": [],
   "source": [
    "test_result = ttest_ind(first_class_ages, third_class_ages, equal_var = False)\n",
    "### END SOLUTION\n",
    "print(test_result.pvalue)\n",
    "if test_result.pvalue <= 0.01:\n",
    "    print(\"The differences in age are significant. Reject H0.\")\n",
    "else:\n",
    "    print(\"There's not enough evidence to reject H0. Don't accept or reject anything else.\")"
   ]
  },
  {
   "cell_type": "code",
   "execution_count": null,
   "metadata": {},
   "outputs": [],
   "source": []
  },
  {
   "cell_type": "markdown",
   "metadata": {},
   "source": [
    "# 7.Prepare the data for modelling: indicator varibles"
   ]
  },
  {
   "cell_type": "code",
   "execution_count": 248,
   "metadata": {},
   "outputs": [
    {
     "data": {
      "text/html": [
       "<div>\n",
       "<style scoped>\n",
       "    .dataframe tbody tr th:only-of-type {\n",
       "        vertical-align: middle;\n",
       "    }\n",
       "\n",
       "    .dataframe tbody tr th {\n",
       "        vertical-align: top;\n",
       "    }\n",
       "\n",
       "    .dataframe thead th {\n",
       "        text-align: right;\n",
       "    }\n",
       "</style>\n",
       "<table border=\"1\" class=\"dataframe\">\n",
       "  <thead>\n",
       "    <tr style=\"text-align: right;\">\n",
       "      <th></th>\n",
       "      <th>age</th>\n",
       "      <th>anaemia</th>\n",
       "      <th>creatinine_phosphokinase</th>\n",
       "      <th>diabetes</th>\n",
       "      <th>ejection_fraction</th>\n",
       "      <th>high_blood_pressure</th>\n",
       "      <th>platelets</th>\n",
       "      <th>serum_creatinine</th>\n",
       "      <th>serum_sodium</th>\n",
       "      <th>sex</th>\n",
       "      <th>smoking</th>\n",
       "      <th>time</th>\n",
       "      <th>death_event</th>\n",
       "    </tr>\n",
       "  </thead>\n",
       "  <tbody>\n",
       "    <tr>\n",
       "      <td>157</td>\n",
       "      <td>50.0</td>\n",
       "      <td>0</td>\n",
       "      <td>250</td>\n",
       "      <td>0</td>\n",
       "      <td>25</td>\n",
       "      <td>0</td>\n",
       "      <td>262000.0</td>\n",
       "      <td>1.0</td>\n",
       "      <td>136</td>\n",
       "      <td>1</td>\n",
       "      <td>1</td>\n",
       "      <td>120</td>\n",
       "      <td>0</td>\n",
       "    </tr>\n",
       "  </tbody>\n",
       "</table>\n",
       "</div>"
      ],
      "text/plain": [
       "      age  anaemia  creatinine_phosphokinase  diabetes  ejection_fraction  \\\n",
       "157  50.0        0                       250         0                 25   \n",
       "\n",
       "     high_blood_pressure  platelets  serum_creatinine  serum_sodium  sex  \\\n",
       "157                    0   262000.0               1.0           136    1   \n",
       "\n",
       "     smoking  time  death_event  \n",
       "157        1   120            0  "
      ]
     },
     "execution_count": 248,
     "metadata": {},
     "output_type": "execute_result"
    }
   ],
   "source": [
    "raw_data.sample()"
   ]
  },
  {
   "cell_type": "code",
   "execution_count": null,
   "metadata": {},
   "outputs": [],
   "source": [
    "#titanic_data_for_modelling = pd.get_dummies(titanic_data, columns = [\"Class\", \"Sex\", \"Embarked\"])"
   ]
  },
  {
   "cell_type": "code",
   "execution_count": 253,
   "metadata": {},
   "outputs": [],
   "source": [
    "raw_data_modelling = pd.get_dummies(raw_data, columns=['diabetes', \n",
    "                                                       'high_blood_pressure', \n",
    "                                                       'sex'])\n",
    "\n"
   ]
  },
  {
   "cell_type": "code",
   "execution_count": 254,
   "metadata": {},
   "outputs": [
    {
     "data": {
      "text/html": [
       "<div>\n",
       "<style scoped>\n",
       "    .dataframe tbody tr th:only-of-type {\n",
       "        vertical-align: middle;\n",
       "    }\n",
       "\n",
       "    .dataframe tbody tr th {\n",
       "        vertical-align: top;\n",
       "    }\n",
       "\n",
       "    .dataframe thead th {\n",
       "        text-align: right;\n",
       "    }\n",
       "</style>\n",
       "<table border=\"1\" class=\"dataframe\">\n",
       "  <thead>\n",
       "    <tr style=\"text-align: right;\">\n",
       "      <th></th>\n",
       "      <th>age</th>\n",
       "      <th>creatinine_phosphokinase</th>\n",
       "      <th>ejection_fraction</th>\n",
       "      <th>platelets</th>\n",
       "      <th>serum_creatinine</th>\n",
       "      <th>serum_sodium</th>\n",
       "      <th>time</th>\n",
       "      <th>anaemia_0</th>\n",
       "      <th>anaemia_1</th>\n",
       "      <th>diabetes_0</th>\n",
       "      <th>diabetes_1</th>\n",
       "      <th>high_blood_pressure_0</th>\n",
       "      <th>high_blood_pressure_1</th>\n",
       "      <th>sex_0</th>\n",
       "      <th>sex_1</th>\n",
       "      <th>smoking_0</th>\n",
       "      <th>smoking_1</th>\n",
       "      <th>death_event_0</th>\n",
       "      <th>death_event_1</th>\n",
       "    </tr>\n",
       "  </thead>\n",
       "  <tbody>\n",
       "    <tr>\n",
       "      <td>2</td>\n",
       "      <td>65.0</td>\n",
       "      <td>146</td>\n",
       "      <td>20</td>\n",
       "      <td>162000.0</td>\n",
       "      <td>1.3</td>\n",
       "      <td>129</td>\n",
       "      <td>7</td>\n",
       "      <td>1</td>\n",
       "      <td>0</td>\n",
       "      <td>1</td>\n",
       "      <td>0</td>\n",
       "      <td>1</td>\n",
       "      <td>0</td>\n",
       "      <td>0</td>\n",
       "      <td>1</td>\n",
       "      <td>0</td>\n",
       "      <td>1</td>\n",
       "      <td>0</td>\n",
       "      <td>1</td>\n",
       "    </tr>\n",
       "    <tr>\n",
       "      <td>3</td>\n",
       "      <td>50.0</td>\n",
       "      <td>111</td>\n",
       "      <td>20</td>\n",
       "      <td>210000.0</td>\n",
       "      <td>1.9</td>\n",
       "      <td>137</td>\n",
       "      <td>7</td>\n",
       "      <td>0</td>\n",
       "      <td>1</td>\n",
       "      <td>1</td>\n",
       "      <td>0</td>\n",
       "      <td>1</td>\n",
       "      <td>0</td>\n",
       "      <td>0</td>\n",
       "      <td>1</td>\n",
       "      <td>1</td>\n",
       "      <td>0</td>\n",
       "      <td>0</td>\n",
       "      <td>1</td>\n",
       "    </tr>\n",
       "    <tr>\n",
       "      <td>4</td>\n",
       "      <td>65.0</td>\n",
       "      <td>160</td>\n",
       "      <td>20</td>\n",
       "      <td>327000.0</td>\n",
       "      <td>2.7</td>\n",
       "      <td>116</td>\n",
       "      <td>8</td>\n",
       "      <td>0</td>\n",
       "      <td>1</td>\n",
       "      <td>0</td>\n",
       "      <td>1</td>\n",
       "      <td>1</td>\n",
       "      <td>0</td>\n",
       "      <td>1</td>\n",
       "      <td>0</td>\n",
       "      <td>1</td>\n",
       "      <td>0</td>\n",
       "      <td>0</td>\n",
       "      <td>1</td>\n",
       "    </tr>\n",
       "    <tr>\n",
       "      <td>5</td>\n",
       "      <td>90.0</td>\n",
       "      <td>47</td>\n",
       "      <td>40</td>\n",
       "      <td>204000.0</td>\n",
       "      <td>2.1</td>\n",
       "      <td>132</td>\n",
       "      <td>8</td>\n",
       "      <td>0</td>\n",
       "      <td>1</td>\n",
       "      <td>1</td>\n",
       "      <td>0</td>\n",
       "      <td>0</td>\n",
       "      <td>1</td>\n",
       "      <td>0</td>\n",
       "      <td>1</td>\n",
       "      <td>0</td>\n",
       "      <td>1</td>\n",
       "      <td>0</td>\n",
       "      <td>1</td>\n",
       "    </tr>\n",
       "    <tr>\n",
       "      <td>6</td>\n",
       "      <td>75.0</td>\n",
       "      <td>246</td>\n",
       "      <td>15</td>\n",
       "      <td>127000.0</td>\n",
       "      <td>1.2</td>\n",
       "      <td>137</td>\n",
       "      <td>10</td>\n",
       "      <td>0</td>\n",
       "      <td>1</td>\n",
       "      <td>1</td>\n",
       "      <td>0</td>\n",
       "      <td>1</td>\n",
       "      <td>0</td>\n",
       "      <td>0</td>\n",
       "      <td>1</td>\n",
       "      <td>1</td>\n",
       "      <td>0</td>\n",
       "      <td>0</td>\n",
       "      <td>1</td>\n",
       "    </tr>\n",
       "    <tr>\n",
       "      <td>...</td>\n",
       "      <td>...</td>\n",
       "      <td>...</td>\n",
       "      <td>...</td>\n",
       "      <td>...</td>\n",
       "      <td>...</td>\n",
       "      <td>...</td>\n",
       "      <td>...</td>\n",
       "      <td>...</td>\n",
       "      <td>...</td>\n",
       "      <td>...</td>\n",
       "      <td>...</td>\n",
       "      <td>...</td>\n",
       "      <td>...</td>\n",
       "      <td>...</td>\n",
       "      <td>...</td>\n",
       "      <td>...</td>\n",
       "      <td>...</td>\n",
       "      <td>...</td>\n",
       "      <td>...</td>\n",
       "    </tr>\n",
       "    <tr>\n",
       "      <td>294</td>\n",
       "      <td>62.0</td>\n",
       "      <td>61</td>\n",
       "      <td>38</td>\n",
       "      <td>155000.0</td>\n",
       "      <td>1.1</td>\n",
       "      <td>143</td>\n",
       "      <td>270</td>\n",
       "      <td>1</td>\n",
       "      <td>0</td>\n",
       "      <td>0</td>\n",
       "      <td>1</td>\n",
       "      <td>0</td>\n",
       "      <td>1</td>\n",
       "      <td>0</td>\n",
       "      <td>1</td>\n",
       "      <td>0</td>\n",
       "      <td>1</td>\n",
       "      <td>1</td>\n",
       "      <td>0</td>\n",
       "    </tr>\n",
       "    <tr>\n",
       "      <td>295</td>\n",
       "      <td>55.0</td>\n",
       "      <td>1820</td>\n",
       "      <td>38</td>\n",
       "      <td>270000.0</td>\n",
       "      <td>1.2</td>\n",
       "      <td>139</td>\n",
       "      <td>271</td>\n",
       "      <td>1</td>\n",
       "      <td>0</td>\n",
       "      <td>1</td>\n",
       "      <td>0</td>\n",
       "      <td>1</td>\n",
       "      <td>0</td>\n",
       "      <td>1</td>\n",
       "      <td>0</td>\n",
       "      <td>1</td>\n",
       "      <td>0</td>\n",
       "      <td>1</td>\n",
       "      <td>0</td>\n",
       "    </tr>\n",
       "    <tr>\n",
       "      <td>296</td>\n",
       "      <td>45.0</td>\n",
       "      <td>2060</td>\n",
       "      <td>60</td>\n",
       "      <td>742000.0</td>\n",
       "      <td>0.8</td>\n",
       "      <td>138</td>\n",
       "      <td>278</td>\n",
       "      <td>1</td>\n",
       "      <td>0</td>\n",
       "      <td>0</td>\n",
       "      <td>1</td>\n",
       "      <td>1</td>\n",
       "      <td>0</td>\n",
       "      <td>1</td>\n",
       "      <td>0</td>\n",
       "      <td>1</td>\n",
       "      <td>0</td>\n",
       "      <td>1</td>\n",
       "      <td>0</td>\n",
       "    </tr>\n",
       "    <tr>\n",
       "      <td>297</td>\n",
       "      <td>45.0</td>\n",
       "      <td>2413</td>\n",
       "      <td>38</td>\n",
       "      <td>140000.0</td>\n",
       "      <td>1.4</td>\n",
       "      <td>140</td>\n",
       "      <td>280</td>\n",
       "      <td>1</td>\n",
       "      <td>0</td>\n",
       "      <td>1</td>\n",
       "      <td>0</td>\n",
       "      <td>1</td>\n",
       "      <td>0</td>\n",
       "      <td>0</td>\n",
       "      <td>1</td>\n",
       "      <td>0</td>\n",
       "      <td>1</td>\n",
       "      <td>1</td>\n",
       "      <td>0</td>\n",
       "    </tr>\n",
       "    <tr>\n",
       "      <td>298</td>\n",
       "      <td>50.0</td>\n",
       "      <td>196</td>\n",
       "      <td>45</td>\n",
       "      <td>395000.0</td>\n",
       "      <td>1.6</td>\n",
       "      <td>136</td>\n",
       "      <td>285</td>\n",
       "      <td>1</td>\n",
       "      <td>0</td>\n",
       "      <td>1</td>\n",
       "      <td>0</td>\n",
       "      <td>1</td>\n",
       "      <td>0</td>\n",
       "      <td>0</td>\n",
       "      <td>1</td>\n",
       "      <td>0</td>\n",
       "      <td>1</td>\n",
       "      <td>1</td>\n",
       "      <td>0</td>\n",
       "    </tr>\n",
       "  </tbody>\n",
       "</table>\n",
       "<p>297 rows × 19 columns</p>\n",
       "</div>"
      ],
      "text/plain": [
       "      age  creatinine_phosphokinase  ejection_fraction  platelets  \\\n",
       "2    65.0                       146                 20   162000.0   \n",
       "3    50.0                       111                 20   210000.0   \n",
       "4    65.0                       160                 20   327000.0   \n",
       "5    90.0                        47                 40   204000.0   \n",
       "6    75.0                       246                 15   127000.0   \n",
       "..    ...                       ...                ...        ...   \n",
       "294  62.0                        61                 38   155000.0   \n",
       "295  55.0                      1820                 38   270000.0   \n",
       "296  45.0                      2060                 60   742000.0   \n",
       "297  45.0                      2413                 38   140000.0   \n",
       "298  50.0                       196                 45   395000.0   \n",
       "\n",
       "     serum_creatinine  serum_sodium  time  anaemia_0  anaemia_1  diabetes_0  \\\n",
       "2                 1.3           129     7          1          0           1   \n",
       "3                 1.9           137     7          0          1           1   \n",
       "4                 2.7           116     8          0          1           0   \n",
       "5                 2.1           132     8          0          1           1   \n",
       "6                 1.2           137    10          0          1           1   \n",
       "..                ...           ...   ...        ...        ...         ...   \n",
       "294               1.1           143   270          1          0           0   \n",
       "295               1.2           139   271          1          0           1   \n",
       "296               0.8           138   278          1          0           0   \n",
       "297               1.4           140   280          1          0           1   \n",
       "298               1.6           136   285          1          0           1   \n",
       "\n",
       "     diabetes_1  high_blood_pressure_0  high_blood_pressure_1  sex_0  sex_1  \\\n",
       "2             0                      1                      0      0      1   \n",
       "3             0                      1                      0      0      1   \n",
       "4             1                      1                      0      1      0   \n",
       "5             0                      0                      1      0      1   \n",
       "6             0                      1                      0      0      1   \n",
       "..          ...                    ...                    ...    ...    ...   \n",
       "294           1                      0                      1      0      1   \n",
       "295           0                      1                      0      1      0   \n",
       "296           1                      1                      0      1      0   \n",
       "297           0                      1                      0      0      1   \n",
       "298           0                      1                      0      0      1   \n",
       "\n",
       "     smoking_0  smoking_1  death_event_0  death_event_1  \n",
       "2            0          1              0              1  \n",
       "3            1          0              0              1  \n",
       "4            1          0              0              1  \n",
       "5            0          1              0              1  \n",
       "6            1          0              0              1  \n",
       "..         ...        ...            ...            ...  \n",
       "294          0          1              1              0  \n",
       "295          1          0              1              0  \n",
       "296          1          0              1              0  \n",
       "297          0          1              1              0  \n",
       "298          0          1              1              0  \n",
       "\n",
       "[297 rows x 19 columns]"
      ]
     },
     "execution_count": 254,
     "metadata": {},
     "output_type": "execute_result"
    }
   ],
   "source": [
    "raw_data_modelling"
   ]
  },
  {
   "cell_type": "markdown",
   "metadata": {},
   "source": [
    "# 8.Prepare the data for modelling: normalization"
   ]
  },
  {
   "cell_type": "code",
   "execution_count": null,
   "metadata": {},
   "outputs": [],
   "source": []
  },
  {
   "cell_type": "markdown",
   "metadata": {},
   "source": [
    "# 9.Split the data"
   ]
  },
  {
   "cell_type": "code",
   "execution_count": null,
   "metadata": {},
   "outputs": [],
   "source": []
  },
  {
   "cell_type": "code",
   "execution_count": null,
   "metadata": {},
   "outputs": [],
   "source": []
  },
  {
   "cell_type": "code",
   "execution_count": 238,
   "metadata": {},
   "outputs": [],
   "source": [
    "# 10.Model the data"
   ]
  },
  {
   "cell_type": "code",
   "execution_count": null,
   "metadata": {},
   "outputs": [],
   "source": []
  },
  {
   "cell_type": "code",
   "execution_count": null,
   "metadata": {},
   "outputs": [],
   "source": []
  },
  {
   "cell_type": "code",
   "execution_count": null,
   "metadata": {},
   "outputs": [],
   "source": []
  },
  {
   "cell_type": "code",
   "execution_count": null,
   "metadata": {},
   "outputs": [],
   "source": []
  },
  {
   "cell_type": "markdown",
   "metadata": {},
   "source": [
    "# 11.Score the model"
   ]
  },
  {
   "cell_type": "code",
   "execution_count": null,
   "metadata": {},
   "outputs": [],
   "source": []
  }
 ],
 "metadata": {
  "kernelspec": {
   "display_name": "Python 3",
   "language": "python",
   "name": "python3"
  },
  "language_info": {
   "codemirror_mode": {
    "name": "ipython",
    "version": 3
   },
   "file_extension": ".py",
   "mimetype": "text/x-python",
   "name": "python",
   "nbconvert_exporter": "python",
   "pygments_lexer": "ipython3",
   "version": "3.7.4"
  }
 },
 "nbformat": 4,
 "nbformat_minor": 4
}
