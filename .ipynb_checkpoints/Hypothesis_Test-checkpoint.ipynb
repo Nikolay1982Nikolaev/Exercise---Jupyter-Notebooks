{
 "cells": [
  {
   "cell_type": "markdown",
   "metadata": {},
   "source": [
    "Each statistical test is presented in a consistent way, including:\n",
    "\n",
    "- The name of the test.\n",
    "- What the test is checking.\n",
    "- The key assumptions of the test.\n",
    "- How the test result is interpreted.\n",
    "- Python API for using the test.\n",
    "\n",
    "1. Normality Tests\n",
    "- Shapiro-Wilk Test\n",
    "- D’Agostino’s K^2 Test\n",
    "- Anderson-Darling Test\n",
    "2. Correlation Tests\n",
    "- Pearson’s Correlation Coefficient\n",
    "- Spearman’s Rank Correlation\n",
    "- Kendall’s Rank Correlation\n",
    "- Chi-Squared Test\n",
    "3. Stationary Tests\n",
    "- Augmented Dickey-Fuller\n",
    "- Kwiatkowski-Phillips-Schmidt-Shin\n",
    "4. Parametric Statistical Hypothesis Tests\n",
    "- Student’s t-test\n",
    "- Paired Student’s t-test\n",
    "- Analysis of Variance Test (ANOVA)\n",
    "- Repeated Measures ANOVA Test\n",
    "5. Nonparametric Statistical Hypothesis Tests\n",
    "- Mann-Whitney U Test\n",
    "- Wilcoxon Signed-Rank Test\n",
    "- Kruskal-Wallis H Test\n",
    "- Friedman Test"
   ]
  }
 ],
 "metadata": {
  "kernelspec": {
   "display_name": "Python 3",
   "language": "python",
   "name": "python3"
  },
  "language_info": {
   "codemirror_mode": {
    "name": "ipython",
    "version": 3
   },
   "file_extension": ".py",
   "mimetype": "text/x-python",
   "name": "python",
   "nbconvert_exporter": "python",
   "pygments_lexer": "ipython3",
   "version": "3.7.4"
  }
 },
 "nbformat": 4,
 "nbformat_minor": 4
}
