{
 "cells": [
  {
   "cell_type": "code",
   "execution_count": 43,
   "metadata": {},
   "outputs": [],
   "source": [
    "import pandas as pd\n",
    "import pandas_datareader as data\n",
    "import matplotlib.pyplot as plt\n",
    "import numpy as np\n",
    "import seaborn as sns\n",
    "from sklearn.model_selection import train_test_split\n",
    "sns.set()"
   ]
  },
  {
   "cell_type": "code",
   "execution_count": 24,
   "metadata": {},
   "outputs": [],
   "source": [
    "#Linear regression model\n",
    "# Decision Tree Regression model"
   ]
  },
  {
   "cell_type": "code",
   "execution_count": 25,
   "metadata": {},
   "outputs": [
    {
     "data": {
      "text/html": [
       "<div>\n",
       "<style scoped>\n",
       "    .dataframe tbody tr th:only-of-type {\n",
       "        vertical-align: middle;\n",
       "    }\n",
       "\n",
       "    .dataframe tbody tr th {\n",
       "        vertical-align: top;\n",
       "    }\n",
       "\n",
       "    .dataframe thead th {\n",
       "        text-align: right;\n",
       "    }\n",
       "</style>\n",
       "<table border=\"1\" class=\"dataframe\">\n",
       "  <thead>\n",
       "    <tr style=\"text-align: right;\">\n",
       "      <th></th>\n",
       "      <th>High</th>\n",
       "      <th>Low</th>\n",
       "      <th>Open</th>\n",
       "      <th>Close</th>\n",
       "      <th>Volume</th>\n",
       "      <th>Adj Close</th>\n",
       "    </tr>\n",
       "    <tr>\n",
       "      <th>Date</th>\n",
       "      <th></th>\n",
       "      <th></th>\n",
       "      <th></th>\n",
       "      <th></th>\n",
       "      <th></th>\n",
       "      <th></th>\n",
       "    </tr>\n",
       "  </thead>\n",
       "  <tbody>\n",
       "    <tr>\n",
       "      <td>2015-08-24</td>\n",
       "      <td>108.800003</td>\n",
       "      <td>92.000000</td>\n",
       "      <td>94.870003</td>\n",
       "      <td>103.120003</td>\n",
       "      <td>162206300.0</td>\n",
       "      <td>95.294647</td>\n",
       "    </tr>\n",
       "    <tr>\n",
       "      <td>2015-08-25</td>\n",
       "      <td>111.110001</td>\n",
       "      <td>103.500000</td>\n",
       "      <td>111.110001</td>\n",
       "      <td>103.739998</td>\n",
       "      <td>103601600.0</td>\n",
       "      <td>95.867607</td>\n",
       "    </tr>\n",
       "    <tr>\n",
       "      <td>2015-08-26</td>\n",
       "      <td>109.889999</td>\n",
       "      <td>105.050003</td>\n",
       "      <td>107.089996</td>\n",
       "      <td>109.690002</td>\n",
       "      <td>96774600.0</td>\n",
       "      <td>101.366074</td>\n",
       "    </tr>\n",
       "    <tr>\n",
       "      <td>2015-08-27</td>\n",
       "      <td>113.239998</td>\n",
       "      <td>110.019997</td>\n",
       "      <td>112.230003</td>\n",
       "      <td>112.919998</td>\n",
       "      <td>84616100.0</td>\n",
       "      <td>104.350983</td>\n",
       "    </tr>\n",
       "    <tr>\n",
       "      <td>2015-08-28</td>\n",
       "      <td>113.309998</td>\n",
       "      <td>111.540001</td>\n",
       "      <td>112.169998</td>\n",
       "      <td>113.290001</td>\n",
       "      <td>53164400.0</td>\n",
       "      <td>104.692871</td>\n",
       "    </tr>\n",
       "  </tbody>\n",
       "</table>\n",
       "</div>"
      ],
      "text/plain": [
       "                  High         Low        Open       Close       Volume  \\\n",
       "Date                                                                      \n",
       "2015-08-24  108.800003   92.000000   94.870003  103.120003  162206300.0   \n",
       "2015-08-25  111.110001  103.500000  111.110001  103.739998  103601600.0   \n",
       "2015-08-26  109.889999  105.050003  107.089996  109.690002   96774600.0   \n",
       "2015-08-27  113.239998  110.019997  112.230003  112.919998   84616100.0   \n",
       "2015-08-28  113.309998  111.540001  112.169998  113.290001   53164400.0   \n",
       "\n",
       "             Adj Close  \n",
       "Date                    \n",
       "2015-08-24   95.294647  \n",
       "2015-08-25   95.867607  \n",
       "2015-08-26  101.366074  \n",
       "2015-08-27  104.350983  \n",
       "2015-08-28  104.692871  "
      ]
     },
     "execution_count": 25,
     "metadata": {},
     "output_type": "execute_result"
    }
   ],
   "source": [
    "apple = data.get_data_yahoo(\"AAPL\")\n",
    "apple.head()"
   ]
  },
  {
   "cell_type": "code",
   "execution_count": 26,
   "metadata": {},
   "outputs": [
    {
     "name": "stdout",
     "output_type": "stream",
     "text": [
      "training_days:  (1258, 6)\n"
     ]
    }
   ],
   "source": [
    "# to get number of training days:\n",
    "print('training_days: ', apple.shape)"
   ]
  },
  {
   "cell_type": "code",
   "execution_count": 27,
   "metadata": {},
   "outputs": [
    {
     "data": {
      "text/plain": [
       "Index(['High', 'Low', 'Open', 'Close', 'Volume', 'Adj Close'], dtype='object')"
      ]
     },
     "execution_count": 27,
     "metadata": {},
     "output_type": "execute_result"
    }
   ],
   "source": [
    "apple.columns"
   ]
  },
  {
   "cell_type": "code",
   "execution_count": 35,
   "metadata": {},
   "outputs": [
    {
     "data": {
      "image/png": "[encoded data removed]",
      "text/plain": [
       "<Figure size 720x360 with 1 Axes>"
      ]
     },
     "metadata": {},
     "output_type": "display_data"
    }
   ],
   "source": [
    "# to visualize the close price Data:\n",
    "sns.set()\n",
    "plt.figure(figsize=(10, 5))\n",
    "plt.title(\"Apple's stock price\")\n",
    "plt.xlabel('Days')\n",
    "plt.ylabel('Close Price USD ($)')\n",
    "plt.plot(apple['Close'])\n",
    "plt.show()"
   ]
  },
  {
   "cell_type": "code",
   "execution_count": 29,
   "metadata": {},
   "outputs": [
    {
     "data": {
      "text/html": [
       "<div>\n",
       "<style scoped>\n",
       "    .dataframe tbody tr th:only-of-type {\n",
       "        vertical-align: middle;\n",
       "    }\n",
       "\n",
       "    .dataframe tbody tr th {\n",
       "        vertical-align: top;\n",
       "    }\n",
       "\n",
       "    .dataframe thead th {\n",
       "        text-align: right;\n",
       "    }\n",
       "</style>\n",
       "<table border=\"1\" class=\"dataframe\">\n",
       "  <thead>\n",
       "    <tr style=\"text-align: right;\">\n",
       "      <th></th>\n",
       "      <th>Close</th>\n",
       "    </tr>\n",
       "    <tr>\n",
       "      <th>Date</th>\n",
       "      <th></th>\n",
       "    </tr>\n",
       "  </thead>\n",
       "  <tbody>\n",
       "    <tr>\n",
       "      <td>2015-08-24</td>\n",
       "      <td>103.120003</td>\n",
       "    </tr>\n",
       "    <tr>\n",
       "      <td>2015-08-25</td>\n",
       "      <td>103.739998</td>\n",
       "    </tr>\n",
       "    <tr>\n",
       "      <td>2015-08-26</td>\n",
       "      <td>109.690002</td>\n",
       "    </tr>\n",
       "    <tr>\n",
       "      <td>2015-08-27</td>\n",
       "      <td>112.919998</td>\n",
       "    </tr>\n",
       "    <tr>\n",
       "      <td>2015-08-28</td>\n",
       "      <td>113.290001</td>\n",
       "    </tr>\n",
       "  </tbody>\n",
       "</table>\n",
       "</div>"
      ],
      "text/plain": [
       "                 Close\n",
       "Date                  \n",
       "2015-08-24  103.120003\n",
       "2015-08-25  103.739998\n",
       "2015-08-26  109.690002\n",
       "2015-08-27  112.919998\n",
       "2015-08-28  113.290001"
      ]
     },
     "execution_count": 29,
     "metadata": {},
     "output_type": "execute_result"
    }
   ],
   "source": [
    "# To get the close price:\n",
    "apple = apple[['Close']]\n",
    "apple.head()"
   ]
  },
  {
   "cell_type": "code",
   "execution_count": 30,
   "metadata": {},
   "outputs": [],
   "source": [
    "# creating a variable to predict X-days in the future:\n",
    "future_days = 25"
   ]
  },
  {
   "cell_type": "code",
   "execution_count": 31,
   "metadata": {},
   "outputs": [],
   "source": [
    "# create a new target column shifted X units/days up:\n",
    "apple['Prediction'] = apple[['Close']].shift(-future_days)"
   ]
  },
  {
   "cell_type": "code",
   "execution_count": 32,
   "metadata": {},
   "outputs": [
    {
     "data": {
      "text/html": [
       "<div>\n",
       "<style scoped>\n",
       "    .dataframe tbody tr th:only-of-type {\n",
       "        vertical-align: middle;\n",
       "    }\n",
       "\n",
       "    .dataframe tbody tr th {\n",
       "        vertical-align: top;\n",
       "    }\n",
       "\n",
       "    .dataframe thead th {\n",
       "        text-align: right;\n",
       "    }\n",
       "</style>\n",
       "<table border=\"1\" class=\"dataframe\">\n",
       "  <thead>\n",
       "    <tr style=\"text-align: right;\">\n",
       "      <th></th>\n",
       "      <th>Close</th>\n",
       "      <th>Prediction</th>\n",
       "    </tr>\n",
       "    <tr>\n",
       "      <th>Date</th>\n",
       "      <th></th>\n",
       "      <th></th>\n",
       "    </tr>\n",
       "  </thead>\n",
       "  <tbody>\n",
       "    <tr>\n",
       "      <td>2015-08-24</td>\n",
       "      <td>103.120003</td>\n",
       "      <td>109.059998</td>\n",
       "    </tr>\n",
       "    <tr>\n",
       "      <td>2015-08-25</td>\n",
       "      <td>103.739998</td>\n",
       "      <td>110.300003</td>\n",
       "    </tr>\n",
       "    <tr>\n",
       "      <td>2015-08-26</td>\n",
       "      <td>109.690002</td>\n",
       "      <td>109.580002</td>\n",
       "    </tr>\n",
       "    <tr>\n",
       "      <td>2015-08-27</td>\n",
       "      <td>112.919998</td>\n",
       "      <td>110.379997</td>\n",
       "    </tr>\n",
       "    <tr>\n",
       "      <td>2015-08-28</td>\n",
       "      <td>113.290001</td>\n",
       "      <td>110.779999</td>\n",
       "    </tr>\n",
       "  </tbody>\n",
       "</table>\n",
       "</div>"
      ],
      "text/plain": [
       "                 Close  Prediction\n",
       "Date                              \n",
       "2015-08-24  103.120003  109.059998\n",
       "2015-08-25  103.739998  110.300003\n",
       "2015-08-26  109.690002  109.580002\n",
       "2015-08-27  112.919998  110.379997\n",
       "2015-08-28  113.290001  110.779999"
      ]
     },
     "execution_count": 32,
     "metadata": {},
     "output_type": "execute_result"
    }
   ],
   "source": [
    "apple.head()"
   ]
  },
  {
   "cell_type": "code",
   "execution_count": 33,
   "metadata": {},
   "outputs": [
    {
     "data": {
      "text/html": [
       "<div>\n",
       "<style scoped>\n",
       "    .dataframe tbody tr th:only-of-type {\n",
       "        vertical-align: middle;\n",
       "    }\n",
       "\n",
       "    .dataframe tbody tr th {\n",
       "        vertical-align: top;\n",
       "    }\n",
       "\n",
       "    .dataframe thead th {\n",
       "        text-align: right;\n",
       "    }\n",
       "</style>\n",
       "<table border=\"1\" class=\"dataframe\">\n",
       "  <thead>\n",
       "    <tr style=\"text-align: right;\">\n",
       "      <th></th>\n",
       "      <th>Close</th>\n",
       "      <th>Prediction</th>\n",
       "    </tr>\n",
       "    <tr>\n",
       "      <th>Date</th>\n",
       "      <th></th>\n",
       "      <th></th>\n",
       "    </tr>\n",
       "  </thead>\n",
       "  <tbody>\n",
       "    <tr>\n",
       "      <td>2020-08-14</td>\n",
       "      <td>459.630005</td>\n",
       "      <td>NaN</td>\n",
       "    </tr>\n",
       "    <tr>\n",
       "      <td>2020-08-17</td>\n",
       "      <td>458.429993</td>\n",
       "      <td>NaN</td>\n",
       "    </tr>\n",
       "    <tr>\n",
       "      <td>2020-08-18</td>\n",
       "      <td>462.250000</td>\n",
       "      <td>NaN</td>\n",
       "    </tr>\n",
       "    <tr>\n",
       "      <td>2020-08-19</td>\n",
       "      <td>462.829987</td>\n",
       "      <td>NaN</td>\n",
       "    </tr>\n",
       "    <tr>\n",
       "      <td>2020-08-20</td>\n",
       "      <td>473.100006</td>\n",
       "      <td>NaN</td>\n",
       "    </tr>\n",
       "  </tbody>\n",
       "</table>\n",
       "</div>"
      ],
      "text/plain": [
       "                 Close  Prediction\n",
       "Date                              \n",
       "2020-08-14  459.630005         NaN\n",
       "2020-08-17  458.429993         NaN\n",
       "2020-08-18  462.250000         NaN\n",
       "2020-08-19  462.829987         NaN\n",
       "2020-08-20  473.100006         NaN"
      ]
     },
     "execution_count": 33,
     "metadata": {},
     "output_type": "execute_result"
    }
   ],
   "source": [
    "apple.tail()"
   ]
  },
  {
   "cell_type": "code",
   "execution_count": 37,
   "metadata": {},
   "outputs": [
    {
     "data": {
      "text/plain": [
       "array([[103.12000275],\n",
       "       [103.73999786],\n",
       "       [109.69000244],\n",
       "       ...,\n",
       "       [388.23001099],\n",
       "       [390.8999939 ],\n",
       "       [386.08999634]])"
      ]
     },
     "execution_count": 37,
     "metadata": {},
     "output_type": "execute_result"
    }
   ],
   "source": [
    "# to create a future dataset (x) and convert into a numpy array and remove last 'x' rows/days\n",
    "x = np.array(apple.drop(['Prediction'], 1))[:-future_days]\n",
    "x"
   ]
  },
  {
   "cell_type": "code",
   "execution_count": 38,
   "metadata": {},
   "outputs": [
    {
     "data": {
      "text/plain": [
       "1233"
      ]
     },
     "execution_count": 38,
     "metadata": {},
     "output_type": "execute_result"
    }
   ],
   "source": [
    "len(x)"
   ]
  },
  {
   "cell_type": "code",
   "execution_count": 39,
   "metadata": {},
   "outputs": [],
   "source": [
    "# to create a target dataset (y) and convert it to numpy and get all of the target values except\n",
    "# last x-rows days\n",
    "y = np.array(apple['Prediction'])[:-future_days]"
   ]
  },
  {
   "cell_type": "code",
   "execution_count": 40,
   "metadata": {},
   "outputs": [
    {
     "data": {
      "text/plain": [
       "1233"
      ]
     },
     "execution_count": 40,
     "metadata": {},
     "output_type": "execute_result"
    }
   ],
   "source": [
    "len(y)"
   ]
  },
  {
   "cell_type": "code",
   "execution_count": 41,
   "metadata": {},
   "outputs": [
    {
     "data": {
      "text/plain": [
       "array([109.05999756, 110.30000305, 109.58000183, ..., 462.25      ,\n",
       "       462.82998657, 473.1000061 ])"
      ]
     },
     "execution_count": 41,
     "metadata": {},
     "output_type": "execute_result"
    }
   ],
   "source": [
    "y"
   ]
  },
  {
   "cell_type": "code",
   "execution_count": 46,
   "metadata": {},
   "outputs": [],
   "source": [
    "# Split the data into 75% training and 25% testing\n",
    "# sklearn\n",
    "xtrain, xtest, ytrain, ytest = train_test_split(x, y, test_size=0.25)"
   ]
  },
  {
   "cell_type": "code",
   "execution_count": 47,
   "metadata": {},
   "outputs": [],
   "source": [
    "# Creating Models"
   ]
  },
  {
   "cell_type": "code",
   "execution_count": 48,
   "metadata": {},
   "outputs": [],
   "source": [
    "# creating the decision tree regression model\n",
    "from sklearn.tree import DecisionTreeRegressor\n",
    "tree = DecisionTreeRegressor().fit(xtrain, ytrain)"
   ]
  },
  {
   "cell_type": "code",
   "execution_count": 49,
   "metadata": {},
   "outputs": [],
   "source": [
    "# creating the Liner Regression Model\n",
    "from sklearn.linear_model import LinearRegression\n",
    "linear = LinearRegression().fit(xtrain, ytrain)"
   ]
  },
  {
   "cell_type": "code",
   "execution_count": 51,
   "metadata": {},
   "outputs": [
    {
     "data": {
      "text/plain": [
       "array([[335.8999939 ],\n",
       "       [338.79998779],\n",
       "       [342.98999023],\n",
       "       [352.07998657],\n",
       "       [351.58999634],\n",
       "       [351.73001099],\n",
       "       [349.72000122],\n",
       "       [358.86999512],\n",
       "       [366.52999878],\n",
       "       [360.05999756],\n",
       "       [364.83999634],\n",
       "       [353.63000488],\n",
       "       [361.77999878],\n",
       "       [364.79998779],\n",
       "       [364.10998535],\n",
       "       [364.10998535],\n",
       "       [373.8500061 ],\n",
       "       [372.69000244],\n",
       "       [381.36999512],\n",
       "       [383.01000977],\n",
       "       [383.67999268],\n",
       "       [381.91000366],\n",
       "       [388.23001099],\n",
       "       [390.8999939 ],\n",
       "       [386.08999634]])"
      ]
     },
     "execution_count": 51,
     "metadata": {},
     "output_type": "execute_result"
    }
   ],
   "source": [
    "# to get the last 'x' rows/days of the fuature dataset\n",
    "xfuture = apple.drop(['Prediction'], 1)[:-future_days]\n",
    "xfuture = xfuture.tail(future_days)\n",
    "xfuture = np.array(xfuture)\n",
    "xfuture"
   ]
  },
  {
   "cell_type": "code",
   "execution_count": 53,
   "metadata": {},
   "outputs": [
    {
     "name": "stdout",
     "output_type": "stream",
     "text": [
      "Decision Tree prediction:  [385.30999756 393.42999268 388.         389.08999634 371.38000488\n",
      " 370.45999146 371.38000488 373.01000977 380.16000366 384.76000977\n",
      " 425.04000854 389.08999634 438.66000366 425.04000854 444.45001221\n",
      " 444.45001221 450.91000366 437.5        452.04000854 460.04000854\n",
      " 459.63000488 458.42999268 462.25       462.82998657 473.1000061 ]\n"
     ]
    }
   ],
   "source": [
    "# to see the model tree prediction\n",
    "tree_prediciton = tree.predict(xfuture)\n",
    "print('Decision Tree prediction: ', tree_prediciton)"
   ]
  },
  {
   "cell_type": "code",
   "execution_count": 54,
   "metadata": {},
   "outputs": [
    {
     "name": "stdout",
     "output_type": "stream",
     "text": [
      "Linear regression prediction:  [356.20693725 359.35512722 363.90373116 373.77169513 373.23976907\n",
      " 373.39176687 371.20973036 381.14282678 389.4584121  382.43467562\n",
      " 387.62377075 375.45437181 384.3018832  387.58033807 386.83128175\n",
      " 386.83128175 397.40490249 396.14561988 405.56849001 407.34886537\n",
      " 408.07618879 406.15471521 413.01562056 415.91411405 410.69245269]\n"
     ]
    }
   ],
   "source": [
    "# to see the model linear regression prediction\n",
    "linear_prediction = linear.predict(xfuture)\n",
    "print('Linear regression prediction: ', linear_prediction)"
   ]
  },
  {
   "cell_type": "code",
   "execution_count": 63,
   "metadata": {},
   "outputs": [
    {
     "name": "stderr",
     "output_type": "stream",
     "text": [
      "C:\\Users\\UTENTE\\Anaconda3\\lib\\site-packages\\ipykernel_launcher.py:4: SettingWithCopyWarning: \n",
      "A value is trying to be set on a copy of a slice from a DataFrame.\n",
      "Try using .loc[row_indexer,col_indexer] = value instead\n",
      "\n",
      "See the caveats in the documentation: http://pandas.pydata.org/pandas-docs/stable/user_guide/indexing.html#returning-a-view-versus-a-copy\n",
      "  after removing the cwd from sys.path.\n"
     ]
    },
    {
     "data": {
      "image/png": "[encoded data removed]",
      "text/plain": [
       "<Figure size 720x504 with 1 Axes>"
      ]
     },
     "metadata": {},
     "output_type": "display_data"
    }
   ],
   "source": [
    "# visualize decision tree predictions\n",
    "predictions = tree_prediciton\n",
    "valid = apple[x.shape[0]:]\n",
    "valid['Prediction'] = predictions\n",
    "plt.figure(figsize=(10, 7))\n",
    "plt.title(\"Apple's stock Price Prediction model (decision tree regressor model)\")\n",
    "plt.xlabel('Days')\n",
    "plt.ylabel('close price USD ($)')\n",
    "plt.plot(apple['Close'])\n",
    "plt.plot(valid[['Close', 'Prediction']])\n",
    "plt.legend(['Original', 'Valid', 'Prediction'])\n",
    "plt.show()"
   ]
  },
  {
   "cell_type": "code",
   "execution_count": 65,
   "metadata": {},
   "outputs": [
    {
     "name": "stderr",
     "output_type": "stream",
     "text": [
      "C:\\Users\\UTENTE\\Anaconda3\\lib\\site-packages\\ipykernel_launcher.py:4: SettingWithCopyWarning: \n",
      "A value is trying to be set on a copy of a slice from a DataFrame.\n",
      "Try using .loc[row_indexer,col_indexer] = value instead\n",
      "\n",
      "See the caveats in the documentation: http://pandas.pydata.org/pandas-docs/stable/user_guide/indexing.html#returning-a-view-versus-a-copy\n",
      "  after removing the cwd from sys.path.\n"
     ]
    },
    {
     "data": {
      "image/png": "[encoded data removed]",
      "text/plain": [
       "<Figure size 720x432 with 1 Axes>"
      ]
     },
     "metadata": {},
     "output_type": "display_data"
    }
   ],
   "source": [
    "# visualize the linear model predictions\n",
    "predictions = linear_prediction\n",
    "valid = apple[x.shape[0]:]\n",
    "valid['Prediction'] = predictions\n",
    "plt.figure(figsize=(10, 6))\n",
    "plt.title(\"Apple's Stock Price Prediction Model(Linear Regression Model)\")\n",
    "plt.xlabel(\"Days\")\n",
    "plt.ylabel(\"Close Price USD ($)\")\n",
    "plt.plot(apple[\"Close\"])\n",
    "plt.plot(valid[[\"Close\", \"Prediction\"]])\n",
    "plt.legend([\"Original\", \"Valid\", \"Prediction\"])\n",
    "plt.show()"
   ]
  },
  {
   "cell_type": "code",
   "execution_count": null,
   "metadata": {},
   "outputs": [],
   "source": []
  }
 ],
 "metadata": {
  "kernelspec": {
   "display_name": "Python 3",
   "language": "python",
   "name": "python3"
  },
  "language_info": {
   "codemirror_mode": {
    "name": "ipython",
    "version": 3
   },
   "file_extension": ".py",
   "mimetype": "text/x-python",
   "name": "python",
   "nbconvert_exporter": "python",
   "pygments_lexer": "ipython3",
   "version": "3.7.4"
  }
 },
 "nbformat": 4,
 "nbformat_minor": 4
}
