{
 "cells": [
  {
   "cell_type": "code",
   "execution_count": 2,
   "metadata": {},
   "outputs": [],
   "source": [
    "%matplotlib inline"
   ]
  },
  {
   "cell_type": "code",
   "execution_count": 435,
   "metadata": {},
   "outputs": [],
   "source": [
    "import numpy as np                #linear algebra\n",
    "import pandas as pd               # data processing\n",
    "import matplotlib.pyplot as plt   # data visualization\n",
    "import seaborn as sns             # data visualization\n",
    "\n",
    "from collections import Counter\n",
    "import nltk\n",
    "\n",
    "import warnings\n",
    "warnings.filterwarnings('ignore')\n",
    "\n",
    "import scipy.stats as stats\n",
    "from scipy.stats import ttest_ind\n",
    "\n",
    "from matplotlib.ticker import PercentFormatter # Adding %-formatting to the y-axis"
   ]
  },
  {
   "cell_type": "markdown",
   "metadata": {},
   "source": [
    "# Data Science\n",
    "\n",
    "\n",
    "## Project name: Nobel Prize Data Exploration\n",
    "## Project author: Nikolay Nikolaev\n"
   ]
  },
  {
   "cell_type": "markdown",
   "metadata": {},
   "source": [
    "### Abstract\n",
    "The **Nobel Prize** is a set of annual international awards bestowed in several categories by Swedish and Norwegian institutions in recognition of academic, cultural, or scientific advances. The will of the Swedish chemist, engineer and industrialist Alfred Nobel established the five Nobel prizes in 1895. The prizes in Chemistry, Literature, Peace, Physics, and Physiology or Medicine were first awarded in 1901. The prizes are widely regarded as the most prestigious awards available in their respective fields.[1]\n",
    "The prestigious award has been given for more than a century. A time of industrial revolution, many wars and active involvement of women in socio-economic life. It is interesting to observe these changes. I think that these events of the past century affect the various categories of awards. Also on the profile of the winners, like gender, age and years to get prize.\n"
   ]
  },
  {
   "cell_type": "markdown",
   "metadata": {},
   "source": [
    "### Introduction\n",
    "For my work we use a date set from a popular site: www.kaggle.com."
   ]
  },
  {
   "cell_type": "markdown",
   "metadata": {},
   "source": [
    "### Reading and getting acquainted with the data."
   ]
  },
  {
   "cell_type": "code",
   "execution_count": 238,
   "metadata": {},
   "outputs": [],
   "source": [
    "# read the raw data set\n",
    "nobel_raw_data = pd.read_csv(\"data/raw_nobel.csv\")"
   ]
  },
  {
   "cell_type": "code",
   "execution_count": 239,
   "metadata": {},
   "outputs": [
    {
     "data": {
      "text/html": [
       "<div>\n",
       "<style scoped>\n",
       "    .dataframe tbody tr th:only-of-type {\n",
       "        vertical-align: middle;\n",
       "    }\n",
       "\n",
       "    .dataframe tbody tr th {\n",
       "        vertical-align: top;\n",
       "    }\n",
       "\n",
       "    .dataframe thead th {\n",
       "        text-align: right;\n",
       "    }\n",
       "</style>\n",
       "<table border=\"1\" class=\"dataframe\">\n",
       "  <thead>\n",
       "    <tr style=\"text-align: right;\">\n",
       "      <th></th>\n",
       "      <th>year</th>\n",
       "      <th>category</th>\n",
       "      <th>prize</th>\n",
       "      <th>motivation</th>\n",
       "      <th>prize_share</th>\n",
       "      <th>laureate_id</th>\n",
       "      <th>laureate_type</th>\n",
       "      <th>full_name</th>\n",
       "      <th>birth_date</th>\n",
       "      <th>birth_city</th>\n",
       "      <th>birth_country</th>\n",
       "      <th>sex</th>\n",
       "      <th>organization_name</th>\n",
       "      <th>organization_city</th>\n",
       "      <th>organization_country</th>\n",
       "      <th>death_date</th>\n",
       "      <th>death_city</th>\n",
       "      <th>death_country</th>\n",
       "    </tr>\n",
       "  </thead>\n",
       "  <tbody>\n",
       "    <tr>\n",
       "      <td>0</td>\n",
       "      <td>1901</td>\n",
       "      <td>Chemistry</td>\n",
       "      <td>The Nobel Prize in Chemistry 1901</td>\n",
       "      <td>\"in recognition of the extraordinary services ...</td>\n",
       "      <td>1/1</td>\n",
       "      <td>160</td>\n",
       "      <td>Individual</td>\n",
       "      <td>Jacobus Henricus van 't Hoff</td>\n",
       "      <td>1852-08-30</td>\n",
       "      <td>Rotterdam</td>\n",
       "      <td>Netherlands</td>\n",
       "      <td>Male</td>\n",
       "      <td>Berlin University</td>\n",
       "      <td>Berlin</td>\n",
       "      <td>Germany</td>\n",
       "      <td>1911-03-01</td>\n",
       "      <td>Berlin</td>\n",
       "      <td>Germany</td>\n",
       "    </tr>\n",
       "    <tr>\n",
       "      <td>1</td>\n",
       "      <td>1901</td>\n",
       "      <td>Literature</td>\n",
       "      <td>The Nobel Prize in Literature 1901</td>\n",
       "      <td>\"in special recognition of his poetic composit...</td>\n",
       "      <td>1/1</td>\n",
       "      <td>569</td>\n",
       "      <td>Individual</td>\n",
       "      <td>Sully Prudhomme</td>\n",
       "      <td>1839-03-16</td>\n",
       "      <td>Paris</td>\n",
       "      <td>France</td>\n",
       "      <td>Male</td>\n",
       "      <td>NaN</td>\n",
       "      <td>NaN</td>\n",
       "      <td>NaN</td>\n",
       "      <td>1907-09-07</td>\n",
       "      <td>Châtenay</td>\n",
       "      <td>France</td>\n",
       "    </tr>\n",
       "    <tr>\n",
       "      <td>2</td>\n",
       "      <td>1901</td>\n",
       "      <td>Medicine</td>\n",
       "      <td>The Nobel Prize in Physiology or Medicine 1901</td>\n",
       "      <td>\"for his work on serum therapy, especially its...</td>\n",
       "      <td>1/1</td>\n",
       "      <td>293</td>\n",
       "      <td>Individual</td>\n",
       "      <td>Emil Adolf von Behring</td>\n",
       "      <td>1854-03-15</td>\n",
       "      <td>Hansdorf (Lawice)</td>\n",
       "      <td>Prussia (Poland)</td>\n",
       "      <td>Male</td>\n",
       "      <td>Marburg University</td>\n",
       "      <td>Marburg</td>\n",
       "      <td>Germany</td>\n",
       "      <td>1917-03-31</td>\n",
       "      <td>Marburg</td>\n",
       "      <td>Germany</td>\n",
       "    </tr>\n",
       "  </tbody>\n",
       "</table>\n",
       "</div>"
      ],
      "text/plain": [
       "   year    category                                           prize  \\\n",
       "0  1901   Chemistry               The Nobel Prize in Chemistry 1901   \n",
       "1  1901  Literature              The Nobel Prize in Literature 1901   \n",
       "2  1901    Medicine  The Nobel Prize in Physiology or Medicine 1901   \n",
       "\n",
       "                                          motivation prize_share  laureate_id  \\\n",
       "0  \"in recognition of the extraordinary services ...         1/1          160   \n",
       "1  \"in special recognition of his poetic composit...         1/1          569   \n",
       "2  \"for his work on serum therapy, especially its...         1/1          293   \n",
       "\n",
       "  laureate_type                     full_name  birth_date         birth_city  \\\n",
       "0    Individual  Jacobus Henricus van 't Hoff  1852-08-30          Rotterdam   \n",
       "1    Individual               Sully Prudhomme  1839-03-16              Paris   \n",
       "2    Individual        Emil Adolf von Behring  1854-03-15  Hansdorf (Lawice)   \n",
       "\n",
       "      birth_country   sex   organization_name organization_city  \\\n",
       "0       Netherlands  Male   Berlin University            Berlin   \n",
       "1            France  Male                 NaN               NaN   \n",
       "2  Prussia (Poland)  Male  Marburg University           Marburg   \n",
       "\n",
       "  organization_country  death_date death_city death_country  \n",
       "0              Germany  1911-03-01     Berlin       Germany  \n",
       "1                  NaN  1907-09-07   Châtenay        France  \n",
       "2              Germany  1917-03-31    Marburg       Germany  "
      ]
     },
     "execution_count": 239,
     "metadata": {},
     "output_type": "execute_result"
    }
   ],
   "source": [
    "# show the top 3 features\n",
    "nobel_raw_data.head(n=3)"
   ]
  },
  {
   "cell_type": "code",
   "execution_count": 449,
   "metadata": {},
   "outputs": [
    {
     "name": "stdout",
     "output_type": "stream",
     "text": [
      "Thare are: 911-rows and 22-columns.\n"
     ]
    }
   ],
   "source": [
    "# show the rows and columns\n",
    "rows, columns = nobel_raw_data.shape\n",
    "print(f\"Thare are: {rows}-rows and {columns}-columns.\")"
   ]
  },
  {
   "cell_type": "markdown",
   "metadata": {},
   "source": [
    "#### General info about columns.\n",
    "\n",
    "- **Year**: The year of award\n",
    "- **Category**: The field in which the award is given\n",
    "- **Prize**: The full name of the prize. Seems to be drivable from other column values.\n",
    "- **Motivation**: The reason for awarding the prize.\n",
    "- **Prize Share**: How many people share the prize\n",
    "- **Laureate ID**: An integer ID\n",
    "- **Laureate Type**: Whether it is an individual or an organization\n",
    "- **Full Name**: Full name of the awardee\n",
    "- **Birth Date**: Birth date of the awardee\n",
    "- **Birth City**: Birth city of the awardee\n",
    "- **Birth Country**: Birth country of the awardee\n",
    "- **Sex**: Gender of the awardee\n",
    "- **Organization Name**: (Only applicable if it's an organization)\n",
    "- **Organization City**: (Only applicable if it's an organization)\n",
    "- **Organization Country**: (Only applicable if it's an organization)\n",
    "- **Death Date**: Date of death of the awardee\n",
    "- **Death City**: City of death of the awardee\n",
    "- **Death Country**: Country of death of the awardee"
   ]
  },
  {
   "cell_type": "code",
   "execution_count": 450,
   "metadata": {},
   "outputs": [
    {
     "name": "stdout",
     "output_type": "stream",
     "text": [
      "<class 'pandas.core.frame.DataFrame'>\n",
      "RangeIndex: 911 entries, 0 to 910\n",
      "Data columns (total 22 columns):\n",
      "year                    911 non-null int64\n",
      "category                911 non-null object\n",
      "prize                   911 non-null object\n",
      "motivation              823 non-null object\n",
      "prize_share             911 non-null object\n",
      "laureate_id             911 non-null int64\n",
      "laureate_type           911 non-null object\n",
      "full_name               911 non-null object\n",
      "birth_date              883 non-null object\n",
      "birth_city              883 non-null object\n",
      "birth_country           885 non-null object\n",
      "sex                     885 non-null object\n",
      "organization_name       665 non-null object\n",
      "organization_city       667 non-null object\n",
      "organization_country    667 non-null object\n",
      "death_date              593 non-null object\n",
      "death_city              576 non-null object\n",
      "death_country           582 non-null object\n",
      "birth_year              883 non-null float64\n",
      "death_year              593 non-null float64\n",
      "age                     593 non-null float64\n",
      "decade                  911 non-null int32\n",
      "dtypes: float64(3), int32(1), int64(2), object(16)\n",
      "memory usage: 153.1+ KB\n"
     ]
    }
   ],
   "source": [
    "# shoe the info by columns and data type\n",
    "nobel_raw_data.info()"
   ]
  },
  {
   "cell_type": "code",
   "execution_count": 451,
   "metadata": {},
   "outputs": [
    {
     "name": "stdout",
     "output_type": "stream",
     "text": [
      "In year column 0.00 % values are null\n",
      "In category column 0.00 % values are null\n",
      "In prize column 0.00 % values are null\n",
      "In motivation column 9.66 % values are null\n",
      "In prize_share column 0.00 % values are null\n",
      "In laureate_id column 0.00 % values are null\n",
      "In laureate_type column 0.00 % values are null\n",
      "In full_name column 0.00 % values are null\n",
      "In birth_date column 3.07 % values are null\n",
      "In birth_city column 3.07 % values are null\n",
      "In birth_country column 2.85 % values are null\n",
      "In sex column 2.85 % values are null\n",
      "In organization_name column 27.00 % values are null\n",
      "In organization_city column 26.78 % values are null\n",
      "In organization_country column 26.78 % values are null\n",
      "In death_date column 34.91 % values are null\n",
      "In death_city column 36.77 % values are null\n",
      "In death_country column 36.11 % values are null\n",
      "In birth_year column 3.07 % values are null\n",
      "In death_year column 34.91 % values are null\n",
      "In age column 34.91 % values are null\n",
      "In decade column 0.00 % values are null\n"
     ]
    }
   ],
   "source": [
    "# make finction to explare how many missing values thare are \n",
    "def definition_missing_data(data_set):\n",
    "    for column in data_set.columns:\n",
    "        null_values = data_set[column].isnull().sum()\n",
    "        total_values = data_set.shape[0]\n",
    "        percent = (null_values/ total_values)*100\n",
    "        print(f\"In {column} column {percent:.2f} % values are null\")\n",
    "        \n",
    "        \n",
    "definition_missing_data(nobel_raw_data)"
   ]
  },
  {
   "cell_type": "code",
   "execution_count": 453,
   "metadata": {},
   "outputs": [
    {
     "data": {
      "image/png": "[encoded data removed]",
      "text/plain": [
       "<Figure size 432x288 with 2 Axes>"
      ]
     },
     "metadata": {
      "needs_background": "light"
     },
     "output_type": "display_data"
    }
   ],
   "source": [
    "# This is a bild-in fuction from sckite-lear library to show us missing data in dataset\n",
    "sns.heatmap(nobel_tidy.isnull(), yticklabels=False, cmap=\"viridis\")\n",
    "plt.show()"
   ]
  },
  {
   "cell_type": "code",
   "execution_count": 454,
   "metadata": {},
   "outputs": [],
   "source": [
    "# make some new columns\n",
    "# make column -> birth year\n",
    "nobel_raw_data['birth_year'] = nobel_raw_data['birth_date'].str[:4]\n",
    "nobel_raw_data['birth_year'] = nobel_raw_data['birth_year'].replace(to_replace=\"nan\", value=0)\n",
    "nobel_raw_data['birth_year'] = nobel_raw_data['birth_year'].apply(pd.to_numeric)\n",
    "\n",
    "# make column -> death year\n",
    "nobel_raw_data['death_year'] = nobel_raw_data['death_date'].str[:4]\n",
    "nobel_raw_data['death_year'] = nobel_raw_data['death_year'].replace(to_replace=\"nan\", value=0)\n",
    "nobel_raw_data['death_year'] = nobel_raw_data['death_year'].apply(pd.to_numeric)\n",
    "\n",
    "#make column -> age\n",
    "nobel_raw_data['age'] = nobel_raw_data['death_year'] - nobel_raw_data['birth_year']\n",
    "\n",
    "#make column -> decade\n",
    "# decade is period of 10 years\n",
    "nobel_raw_data['decade'] = (np.floor(pd.Series(nobel_raw_data['year'])/10)*10).astype(int)"
   ]
  },
  {
   "cell_type": "code",
   "execution_count": 455,
   "metadata": {},
   "outputs": [],
   "source": [
    "# save the processing with new name\n",
    "nobel_raw_data.to_csv(\"data/nobel_tidy\")\n",
    "nobel_tidy = pd.read_csv(\"data/nobel_tidy\")"
   ]
  },
  {
   "cell_type": "markdown",
   "metadata": {},
   "source": [
    "## Data Exploring \n",
    "First will see the diferent category of prizes.\n",
    "\n",
    "#### 1. Exploration by category:"
   ]
  },
  {
   "cell_type": "code",
   "execution_count": 459,
   "metadata": {},
   "outputs": [],
   "source": [
    "def auto_label(graph):\n",
    "    for bar in graph.patches:\n",
    "        height = bar.get_height()\n",
    "        plt.annotate(height,\n",
    "        xy = (bar.get_x() + bar.get_width()/2, height),\n",
    "        xytext = (0, 3),\n",
    "        textcoords=\"offset points\", va = 'bottom', ha = 'center')"
   ]
  },
  {
   "cell_type": "code",
   "execution_count": 460,
   "metadata": {},
   "outputs": [
    {
     "data": {
      "text/plain": [
       "Medicine      211\n",
       "Physics       204\n",
       "Chemistry     175\n",
       "Peace         130\n",
       "Literature    113\n",
       "Economics      78\n",
       "Name: category, dtype: int64"
      ]
     },
     "execution_count": 460,
     "metadata": {},
     "output_type": "execute_result"
    }
   ],
   "source": [
    "# read the category \n",
    "nobel_tidy['category'].value_counts()"
   ]
  },
  {
   "cell_type": "markdown",
   "metadata": {},
   "source": [
    "We can see at once that most honors prizes have been given for contributions to Medicine."
   ]
  },
  {
   "cell_type": "code",
   "execution_count": 461,
   "metadata": {},
   "outputs": [],
   "source": [
    "# set the function for auto labaled the graph \n",
    "def auto_label(graph):\n",
    "    for bar in graph.patches:\n",
    "        height = bar.get_height()\n",
    "        plt.annotate(height,\n",
    "        xy = (bar.get_x() + bar.get_width()/2, height),\n",
    "        xytext = (0, 3),\n",
    "        textcoords=\"offset points\", va = 'bottom', ha = 'center')"
   ]
  },
  {
   "cell_type": "code",
   "execution_count": 458,
   "metadata": {},
   "outputs": [
    {
     "data": {
      "image/png": "[encoded data removed]",
      "text/plain": [
       "<Figure size 504x504 with 1 Axes>"
      ]
     },
     "metadata": {
      "needs_background": "light"
     },
     "output_type": "display_data"
    }
   ],
   "source": [
    "plt.figure(figsize = (7, 7))\n",
    "graph1 = sns.countplot(x=nobel_tidy['category'])\n",
    "auto_label(graph1)"
   ]
  },
  {
   "cell_type": "markdown",
   "metadata": {},
   "source": [
    "The data on the proportion of men and women awarded the Nobel Prize are interesting.\n",
    "\n",
    "#### 2. Exploration by gender of person."
   ]
  },
  {
   "cell_type": "code",
   "execution_count": 281,
   "metadata": {},
   "outputs": [
    {
     "data": {
      "text/plain": [
       "Male      836\n",
       "Female     49\n",
       "Name: sex, dtype: int64"
      ]
     },
     "execution_count": 281,
     "metadata": {},
     "output_type": "execute_result"
    }
   ],
   "source": [
    "nobel_tidy['sex'].value_counts()"
   ]
  },
  {
   "cell_type": "markdown",
   "metadata": {},
   "source": [
    "The main group of winners is composed of men. It is right to look for obvious characteristics in this group."
   ]
  },
  {
   "cell_type": "code",
   "execution_count": 462,
   "metadata": {},
   "outputs": [
    {
     "data": {
      "image/png": "[encoded data removed]",
      "text/plain": [
       "<Figure size 360x360 with 1 Axes>"
      ]
     },
     "metadata": {
      "needs_background": "light"
     },
     "output_type": "display_data"
    }
   ],
   "source": [
    "plt.figure(figsize = (5, 5))\n",
    "graph2 = sns.countplot(x=nobel_tidy['sex'])\n",
    "auto_label(graph2)"
   ]
  },
  {
   "cell_type": "markdown",
   "metadata": {},
   "source": [
    "Let's see if there is a common characteristic between the two sexes and the category in which they were awarded."
   ]
  },
  {
   "cell_type": "code",
   "execution_count": 463,
   "metadata": {},
   "outputs": [],
   "source": [
    "category_and_gender = nobel_tidy.groupby('category')['sex'].value_counts().to_frame()\n",
    "category_and_gender.columns = ['number_winners']\n",
    "category_and_gender.reset_index(inplace=True)"
   ]
  },
  {
   "cell_type": "code",
   "execution_count": 464,
   "metadata": {},
   "outputs": [
    {
     "data": {
      "image/png": "[encoded data removed]",
      "text/plain": [
       "<Figure size 1440x360 with 1 Axes>"
      ]
     },
     "metadata": {
      "needs_background": "light"
     },
     "output_type": "display_data"
    }
   ],
   "source": [
    "plt.figure(figsize=(20, 5))\n",
    "graph3 = sns.barplot(x = 'category' , y = 'number_winners' , hue = 'sex' ,data = category_and_gender)\n",
    "plt.xlabel('Category')\n",
    "plt.ylabel('Number of winners')\n",
    "auto_label(graph3)"
   ]
  },
  {
   "cell_type": "markdown",
   "metadata": {},
   "source": [
    "There is no great similarity between the sexes and the award category.\n",
    "Men clearly dominate the exact sciences such as physics, chemistry, economics\n",
    "But women have a trend towards humanities, such as literature, medicine and peace."
   ]
  },
  {
   "cell_type": "code",
   "execution_count": 285,
   "metadata": {},
   "outputs": [
    {
     "data": {
      "text/html": [
       "<div>\n",
       "<style scoped>\n",
       "    .dataframe tbody tr th:only-of-type {\n",
       "        vertical-align: middle;\n",
       "    }\n",
       "\n",
       "    .dataframe tbody tr th {\n",
       "        vertical-align: top;\n",
       "    }\n",
       "\n",
       "    .dataframe thead th {\n",
       "        text-align: right;\n",
       "    }\n",
       "</style>\n",
       "<table border=\"1\" class=\"dataframe\">\n",
       "  <thead>\n",
       "    <tr style=\"text-align: right;\">\n",
       "      <th>category</th>\n",
       "      <th>Chemistry</th>\n",
       "      <th>Economics</th>\n",
       "      <th>Literature</th>\n",
       "      <th>Medicine</th>\n",
       "      <th>Peace</th>\n",
       "      <th>Physics</th>\n",
       "    </tr>\n",
       "    <tr>\n",
       "      <th>sex</th>\n",
       "      <th></th>\n",
       "      <th></th>\n",
       "      <th></th>\n",
       "      <th></th>\n",
       "      <th></th>\n",
       "      <th></th>\n",
       "    </tr>\n",
       "  </thead>\n",
       "  <tbody>\n",
       "    <tr>\n",
       "      <td>Female</td>\n",
       "      <td>4</td>\n",
       "      <td>1</td>\n",
       "      <td>14</td>\n",
       "      <td>12</td>\n",
       "      <td>16</td>\n",
       "      <td>2</td>\n",
       "    </tr>\n",
       "    <tr>\n",
       "      <td>Male</td>\n",
       "      <td>171</td>\n",
       "      <td>77</td>\n",
       "      <td>99</td>\n",
       "      <td>199</td>\n",
       "      <td>88</td>\n",
       "      <td>202</td>\n",
       "    </tr>\n",
       "  </tbody>\n",
       "</table>\n",
       "</div>"
      ],
      "text/plain": [
       "category  Chemistry  Economics  Literature  Medicine  Peace  Physics\n",
       "sex                                                                 \n",
       "Female            4          1          14        12     16        2\n",
       "Male            171         77          99       199     88      202"
      ]
     },
     "execution_count": 285,
     "metadata": {},
     "output_type": "execute_result"
    }
   ],
   "source": [
    "pd.crosstab(nobel_tidy['sex'], nobel_tidy['category'])"
   ]
  },
  {
   "cell_type": "markdown",
   "metadata": {},
   "source": [
    "Let's check the comparison of sex, category, and year"
   ]
  },
  {
   "cell_type": "code",
   "execution_count": 466,
   "metadata": {},
   "outputs": [
    {
     "data": {
      "image/png": "[encoded data removed]",
      "text/plain": [
       "<Figure size 1368.12x432 with 12 Axes>"
      ]
     },
     "metadata": {
      "needs_background": "light"
     },
     "output_type": "display_data"
    }
   ],
   "source": [
    "#Let's check the comparison of sex, category, and year\n",
    "histogram = sns.FacetGrid(nobel_tidy, row = 'sex', col = 'category', hue = 'sex')\n",
    "histogram.map(plt.hist, 'year', alpha = .5)\n",
    "histogram.add_legend()\n",
    "plt.show()"
   ]
  },
  {
   "cell_type": "markdown",
   "metadata": {},
   "source": [
    "It is observed that in the category where women are well represented, they have a growing trend.\n",
    "In the same categories, the same increase is not observed, they remain at the flat.\n",
    "\n",
    "#### The same number of men and women receive a prize?"
   ]
  },
  {
   "cell_type": "code",
   "execution_count": 287,
   "metadata": {},
   "outputs": [
    {
     "data": {
      "text/plain": [
       "Text(0.5, 1.0, 'Nobel prize winners proportion by sex from 1901 to 2016')"
      ]
     },
     "execution_count": 287,
     "metadata": {},
     "output_type": "execute_result"
    },
    {
     "data": {
      "image/png": "[encoded data removed]",
      "text/plain": [
       "<Figure size 720x360 with 1 Axes>"
      ]
     },
     "metadata": {
      "needs_background": "light"
     },
     "output_type": "display_data"
    }
   ],
   "source": [
    "# calculation the proportion of female and male recipient per decade\n",
    "nobel_tidy['female_winner'] = nobel_tidy['sex'] == 'Female'\n",
    "nobel_tidy['male_winner']   = nobel_tidy['sex'] == 'Male'\n",
    "female_winner = nobel_tidy.groupby(['decade', 'category'], as_index=False)['female_winner'].mean()\n",
    "male_winner   = nobel_tidy.groupby(['decade', 'category'], as_index=False)['male_winner'].mean()\n",
    "\n",
    "plt.figure(figsize=(10,5))\n",
    "ax = sns.lineplot(x='decade', y= 'female_winner', label='Female', data=female_winner)\n",
    "ax = sns.lineplot(x='decade', y= 'male_winner'  , label='Male', data=male_winner)\n",
    "\n",
    "# % - formationg the y-axis\n",
    "ax.yaxis.set_major_formatter(PercentFormatter(1.0))\n",
    "ax.set_title('Nobel prize winners proportion by sex from 1901 to 2016', fontsize=15)"
   ]
  },
  {
   "cell_type": "markdown",
   "metadata": {},
   "source": [
    "We may notice that over time, number of women are increased, and the number of men is decreasing."
   ]
  },
  {
   "cell_type": "markdown",
   "metadata": {},
   "source": [
    "# Test of Hypothesis by Chi-Squared  of Independence\n",
    "\n",
    "I'll use the **Chi Squared Test of Independenca** to confirm mi idea.\n",
    "\n",
    "- **Chi-squared tests** are based on the so-called chi-squared statistic. You calculate the chi-squared statistic with the following formula:\n",
    "\n",
    "$$ sum\\left ( \\frac{(observed - expected)^2}{expected} \\right) $$\n",
    "\n",
    "- **Null hypothesis**: Assumes that there is no association between the two variables.\n",
    "- **Alternative hypothesis**: Assumes that there is an association between the two variables.\n",
    "\n",
    "In our case: \n",
    "- **Null hypotehesis**: thare ara no assiciation between gender of winners and category field.\n",
    "- **Alternative hypothesis**:  correlation between gender and category and the large number of male winners determines the overall trend of winners, wimens rows are indiferent. Thare are independant.\n",
    "\n",
    "- Very good explanation are in this article: [link_kaggle](https://www.kaggle.com/hamelg/python-for-data-25-chi-squared-tests)\n",
    "\n",
    "- **Independence** is a key concept in probability that describes a situation where knowing the value of one variable tells you nothing about the value of another. For instance, the month you were born probably doesn't tell you anything about which web browser you use, so we'd expect birth month and browser preference to be independent. On the other hand, your month of birth might be related to whether you excelled at sports in school, so month of birth and sports performance might not be independent.\n",
    "\n",
    "- The **Chi-squared test** of independence tests whether two categorical variables are independent. The test of independence is commonly used to determine whether variables like education, political views and other preferences vary based on demographic factors like gender, race and religion, that is very usefull in our case.\n",
    "\n",
    "- I start with that, count for each category and expected is the expected count based on the distribution of the population for the corresponding category. "
   ]
  },
  {
   "cell_type": "code",
   "execution_count": 470,
   "metadata": {},
   "outputs": [
    {
     "name": "stdout",
     "output_type": "stream",
     "text": [
      "7\n",
      "3\n"
     ]
    }
   ],
   "source": [
    "np.random.seed(10)\n",
    "# very usefull build-in pandas method, to cross two features.\n",
    "tab_age_category = pd.crosstab(nobel_tidy['sex'], nobel_tidy['category'], margins= True)\n",
    "\n",
    "#voter_tab = pd.crosstab(voters.race, voters.party, margins = True)\n",
    "tab_age_category.columns = ['Chemistry', 'Economics', 'Literature', 'Medicine', 'Peace', 'Physics', \"row_totals\"]\n",
    "tab_age_category.index = ['Female', 'Male',\"col_totals\"]\n",
    "\n",
    "# show the number of columns and index\n",
    "print(len(tab_age_category.columns))\n",
    "print(len(tab_age_category.index))"
   ]
  },
  {
   "cell_type": "code",
   "execution_count": 296,
   "metadata": {},
   "outputs": [
    {
     "data": {
      "text/html": [
       "<div>\n",
       "<style scoped>\n",
       "    .dataframe tbody tr th:only-of-type {\n",
       "        vertical-align: middle;\n",
       "    }\n",
       "\n",
       "    .dataframe tbody tr th {\n",
       "        vertical-align: top;\n",
       "    }\n",
       "\n",
       "    .dataframe thead th {\n",
       "        text-align: right;\n",
       "    }\n",
       "</style>\n",
       "<table border=\"1\" class=\"dataframe\">\n",
       "  <thead>\n",
       "    <tr style=\"text-align: right;\">\n",
       "      <th></th>\n",
       "      <th>Chemistry</th>\n",
       "      <th>Economics</th>\n",
       "      <th>Literature</th>\n",
       "      <th>Medicine</th>\n",
       "      <th>Peace</th>\n",
       "      <th>Physics</th>\n",
       "      <th>row_totals</th>\n",
       "    </tr>\n",
       "  </thead>\n",
       "  <tbody>\n",
       "    <tr>\n",
       "      <td>Female</td>\n",
       "      <td>4</td>\n",
       "      <td>1</td>\n",
       "      <td>14</td>\n",
       "      <td>12</td>\n",
       "      <td>16</td>\n",
       "      <td>2</td>\n",
       "      <td>49</td>\n",
       "    </tr>\n",
       "    <tr>\n",
       "      <td>Male</td>\n",
       "      <td>171</td>\n",
       "      <td>77</td>\n",
       "      <td>99</td>\n",
       "      <td>199</td>\n",
       "      <td>88</td>\n",
       "      <td>202</td>\n",
       "      <td>836</td>\n",
       "    </tr>\n",
       "    <tr>\n",
       "      <td>col_totals</td>\n",
       "      <td>175</td>\n",
       "      <td>78</td>\n",
       "      <td>113</td>\n",
       "      <td>211</td>\n",
       "      <td>104</td>\n",
       "      <td>204</td>\n",
       "      <td>885</td>\n",
       "    </tr>\n",
       "  </tbody>\n",
       "</table>\n",
       "</div>"
      ],
      "text/plain": [
       "            Chemistry  Economics  Literature  Medicine  Peace  Physics  \\\n",
       "Female              4          1          14        12     16        2   \n",
       "Male              171         77          99       199     88      202   \n",
       "col_totals        175         78         113       211    104      204   \n",
       "\n",
       "            row_totals  \n",
       "Female              49  \n",
       "Male               836  \n",
       "col_totals         885  "
      ]
     },
     "execution_count": 296,
     "metadata": {},
     "output_type": "execute_result"
    }
   ],
   "source": [
    "# Get table without totals for later use\n",
    "observed = tab_age_category.iloc[0:2,0:6]   # Get table without totals for later use\n",
    "tab_age_category"
   ]
  },
  {
   "cell_type": "markdown",
   "metadata": {},
   "source": [
    "We have to calculate the expected counts of each cell in a 2-dimensional table instead of a 1-dimensional table.\n",
    "To get the expected count for a cell, multiply the row total for that cell by the column total for that cell and then divide by the total number of observations. The expected counts for all cells in the table by taking the row totals and column totals of the table, performing an outer product on them with the **np.outer()** function and dividing by the number of observations"
   ]
  },
  {
   "cell_type": "code",
   "execution_count": 475,
   "metadata": {},
   "outputs": [
    {
     "data": {
      "text/html": [
       "<div>\n",
       "<style scoped>\n",
       "    .dataframe tbody tr th:only-of-type {\n",
       "        vertical-align: middle;\n",
       "    }\n",
       "\n",
       "    .dataframe tbody tr th {\n",
       "        vertical-align: top;\n",
       "    }\n",
       "\n",
       "    .dataframe thead th {\n",
       "        text-align: right;\n",
       "    }\n",
       "</style>\n",
       "<table border=\"1\" class=\"dataframe\">\n",
       "  <thead>\n",
       "    <tr style=\"text-align: right;\">\n",
       "      <th></th>\n",
       "      <th>Chemistry</th>\n",
       "      <th>Economics</th>\n",
       "      <th>Literature</th>\n",
       "      <th>Medicine</th>\n",
       "      <th>Peace</th>\n",
       "      <th>Physics</th>\n",
       "    </tr>\n",
       "  </thead>\n",
       "  <tbody>\n",
       "    <tr>\n",
       "      <td>Female</td>\n",
       "      <td>8.575</td>\n",
       "      <td>3.822</td>\n",
       "      <td>5.537</td>\n",
       "      <td>10.339</td>\n",
       "      <td>5.096</td>\n",
       "      <td>9.996</td>\n",
       "    </tr>\n",
       "    <tr>\n",
       "      <td>Male</td>\n",
       "      <td>146.300</td>\n",
       "      <td>65.208</td>\n",
       "      <td>94.468</td>\n",
       "      <td>176.396</td>\n",
       "      <td>86.944</td>\n",
       "      <td>170.544</td>\n",
       "    </tr>\n",
       "  </tbody>\n",
       "</table>\n",
       "</div>"
      ],
      "text/plain": [
       "        Chemistry  Economics  Literature  Medicine   Peace  Physics\n",
       "Female      8.575      3.822       5.537    10.339   5.096    9.996\n",
       "Male      146.300     65.208      94.468   176.396  86.944  170.544"
      ]
     },
     "execution_count": 475,
     "metadata": {},
     "output_type": "execute_result"
    }
   ],
   "source": [
    "# for determinate expected features, we are need the raw data, without total value\n",
    "expected =  np.outer(tab_age_category[\"row_totals\"][0:2],\n",
    "                     tab_age_category.loc[\"col_totals\"][0:6]) / 1000\n",
    "\n",
    "# make dataset\n",
    "expected = pd.DataFrame(expected)\n",
    "\n",
    "# name of columns and index\n",
    "expected.columns = ['Chemistry', 'Economics', 'Literature', 'Medicine', 'Peace', 'Physics']\n",
    "expected.index = ['Female', 'Male']\n",
    "\n",
    "# show the new dataset\n",
    "expected"
   ]
  },
  {
   "cell_type": "code",
   "execution_count": 298,
   "metadata": {},
   "outputs": [
    {
     "name": "stdout",
     "output_type": "stream",
     "text": [
      "62.685507021777354\n"
     ]
    }
   ],
   "source": [
    "# calculating the chi-squared test\n",
    "chi_squared_stat = (((observed-expected)**2)/expected).sum().sum()\n",
    "\n",
    "# the result\n",
    "print(chi_squared_stat)"
   ]
  },
  {
   "cell_type": "markdown",
   "metadata": {},
   "source": [
    "Important note is that, the Chi-squared test assumes none of the expected counts are less than 5.\n",
    "In our case, I have big value and that isn't problem.\n",
    "In the Chi-square test we compare the chi-square test statistic to a critical value based on the chi-square distribution. The scipy library shorthand for the [chi-square distribution](https://en.wikipedia.org/wiki/Chi-square_distribution). Let's use this knowledge to find the critical value for 95% confidence level and check the P-value of our result:"
   ]
  },
  {
   "cell_type": "code",
   "execution_count": 480,
   "metadata": {},
   "outputs": [
    {
     "name": "stdout",
     "output_type": "stream",
     "text": [
      "Critical value: 11.070497693516351\n",
      "P value: 1.381860181837169e-10\n"
     ]
    }
   ],
   "source": [
    "\"\"\"\n",
    "1. Calculate the critical value for 95% confidence\n",
    "2. The degrees of freedom for a test of independence equals the product of the number of categories in each variable minus 1. \n",
    "In this case we have a 6x2 table so df = 5x1 = 5.\"\"\"\n",
    "\n",
    "critical_value = stats.chi2.ppf(q = 0.95, df = 5)\n",
    "\n",
    "print(f\"Critical value: {critical_value}\")\n",
    "\n",
    "# Calculate the p-value\n",
    "p_value = 1 - stats.chi2.cdf(x=chi_squared_stat, df=8)  \n",
    "                             \n",
    "print(f\"P value: {p_value}\")\n"
   ]
  },
  {
   "cell_type": "code",
   "execution_count": null,
   "metadata": {},
   "outputs": [],
   "source": []
  },
  {
   "cell_type": "code",
   "execution_count": 481,
   "metadata": {},
   "outputs": [
    {
     "name": "stdout",
     "output_type": "stream",
     "text": [
      "(43.772548714272965, 2.575994107727118e-08, 5, array([[  9.68926554,   4.31864407,   6.25649718,  11.68248588,\n",
      "          5.75819209,  11.29491525],\n",
      "       [165.31073446,  73.68135593, 106.74350282, 199.31751412,\n",
      "         98.24180791, 192.70508475]]))\n"
     ]
    }
   ],
   "source": [
    "print(stats.chi2_contingency(observed= observed))"
   ]
  },
  {
   "cell_type": "markdown",
   "metadata": {},
   "source": [
    "- The output shows the **chi-square statistic**, the **P-value** and the **degrees of freedom** followed by the expected counts.\n",
    "\n",
    "**EXIT** :  The given the high P-value, the test result does not detect a significant relationship between the variables So, we regect the hypothesys for corelation between men and cataegory."
   ]
  },
  {
   "cell_type": "markdown",
   "metadata": {},
   "source": [
    "### Simple Linear Regresion"
   ]
  },
  {
   "cell_type": "markdown",
   "metadata": {},
   "source": [
    "In statistics, simple linear regression is a linear regression model with a single explanatory variable. That is, it concerns two-dimensional sample points with one independent variable and one dependent variable (conventionally, the x and y coordinates in a Cartesian coordinate system) and finds a linear function (a non-vertical straight line) that, as accurately as possible, predicts the dependent variable values as a function of the independent variable. The adjective simple refers to the fact that the outcome variable is related to a single predictor.\n",
    "\n",
    "\n",
    "Linear regression has many practical uses. Most applications fall into one of the following two broad categories:\n",
    "\n",
    "- If the goal is prediction, forecasting, or error reduction, linear regression can be used to fit a predictive model to an observed data set of values of the response and explanatory variables. After developing such a model, if additional values of the explanatory variables are collected without an accompanying response value, the fitted model can be used to make a prediction of the response.\n",
    "- If the goal is to explain variation in the response variable that can be attributed to variation in the explanatory variables, linear regression analysis can be applied to quantify the strength of the relationship between the response and the explanatory variables, and in particular to determine whether some explanatory variables may have no linear relationship with the response at all, or to identify which subsets of explanatory variables may contain redundant information about the response.\n",
    "\n",
    "\n",
    "$$ Linear Regresion Model: y = ax + b $$\n",
    "\n",
    "- a,b: are unknown parameter"
   ]
  },
  {
   "cell_type": "code",
   "execution_count": 381,
   "metadata": {},
   "outputs": [],
   "source": [
    "tab_age_sex = pd.crosstab(nobel_tidy['sex'], nobel_tidy['age'])"
   ]
  },
  {
   "cell_type": "code",
   "execution_count": 471,
   "metadata": {},
   "outputs": [
    {
     "data": {
      "text/html": [
       "<div>\n",
       "<style scoped>\n",
       "    .dataframe tbody tr th:only-of-type {\n",
       "        vertical-align: middle;\n",
       "    }\n",
       "\n",
       "    .dataframe tbody tr th {\n",
       "        vertical-align: top;\n",
       "    }\n",
       "\n",
       "    .dataframe thead th {\n",
       "        text-align: right;\n",
       "    }\n",
       "</style>\n",
       "<table border=\"1\" class=\"dataframe\">\n",
       "  <thead>\n",
       "    <tr style=\"text-align: right;\">\n",
       "      <th>sex</th>\n",
       "      <th>Male</th>\n",
       "    </tr>\n",
       "    <tr>\n",
       "      <th>age</th>\n",
       "      <th></th>\n",
       "    </tr>\n",
       "  </thead>\n",
       "  <tbody>\n",
       "    <tr>\n",
       "      <td>39.0</td>\n",
       "      <td>1</td>\n",
       "    </tr>\n",
       "    <tr>\n",
       "      <td>44.0</td>\n",
       "      <td>1</td>\n",
       "    </tr>\n",
       "    <tr>\n",
       "      <td>47.0</td>\n",
       "      <td>2</td>\n",
       "    </tr>\n",
       "    <tr>\n",
       "      <td>49.0</td>\n",
       "      <td>2</td>\n",
       "    </tr>\n",
       "    <tr>\n",
       "      <td>50.0</td>\n",
       "      <td>1</td>\n",
       "    </tr>\n",
       "  </tbody>\n",
       "</table>\n",
       "</div>"
      ],
      "text/plain": [
       "sex   Male\n",
       "age       \n",
       "39.0     1\n",
       "44.0     1\n",
       "47.0     2\n",
       "49.0     2\n",
       "50.0     1"
      ]
     },
     "execution_count": 471,
     "metadata": {},
     "output_type": "execute_result"
    }
   ],
   "source": [
    "tab_sex_age = tab_age_sex.T\n",
    "\n",
    "tab_sex_age = tab_sex_age.drop(columns=['Female'])\n",
    "tab_sex_age.head()"
   ]
  },
  {
   "cell_type": "code",
   "execution_count": 383,
   "metadata": {},
   "outputs": [
    {
     "data": {
      "text/html": [
       "<div>\n",
       "<style scoped>\n",
       "    .dataframe tbody tr th:only-of-type {\n",
       "        vertical-align: middle;\n",
       "    }\n",
       "\n",
       "    .dataframe tbody tr th {\n",
       "        vertical-align: top;\n",
       "    }\n",
       "\n",
       "    .dataframe thead th {\n",
       "        text-align: right;\n",
       "    }\n",
       "</style>\n",
       "<table border=\"1\" class=\"dataframe\">\n",
       "  <thead>\n",
       "    <tr style=\"text-align: right;\">\n",
       "      <th>sex</th>\n",
       "      <th>age</th>\n",
       "      <th>Male</th>\n",
       "    </tr>\n",
       "  </thead>\n",
       "  <tbody>\n",
       "    <tr>\n",
       "      <td>0</td>\n",
       "      <td>39.0</td>\n",
       "      <td>1</td>\n",
       "    </tr>\n",
       "    <tr>\n",
       "      <td>1</td>\n",
       "      <td>44.0</td>\n",
       "      <td>1</td>\n",
       "    </tr>\n",
       "    <tr>\n",
       "      <td>2</td>\n",
       "      <td>47.0</td>\n",
       "      <td>2</td>\n",
       "    </tr>\n",
       "    <tr>\n",
       "      <td>3</td>\n",
       "      <td>49.0</td>\n",
       "      <td>2</td>\n",
       "    </tr>\n",
       "    <tr>\n",
       "      <td>4</td>\n",
       "      <td>50.0</td>\n",
       "      <td>1</td>\n",
       "    </tr>\n",
       "  </tbody>\n",
       "</table>\n",
       "</div>"
      ],
      "text/plain": [
       "sex   age  Male\n",
       "0    39.0     1\n",
       "1    44.0     1\n",
       "2    47.0     2\n",
       "3    49.0     2\n",
       "4    50.0     1"
      ]
     },
     "execution_count": 383,
     "metadata": {},
     "output_type": "execute_result"
    }
   ],
   "source": [
    "tab_sex_age = tab_sex_age.reset_index()\n",
    "\n",
    "tab_sex_age.head(5)"
   ]
  },
  {
   "cell_type": "code",
   "execution_count": 406,
   "metadata": {},
   "outputs": [
    {
     "data": {
      "text/plain": [
       "sex\n",
       "age     0\n",
       "Male    0\n",
       "dtype: int64"
      ]
     },
     "execution_count": 406,
     "metadata": {},
     "output_type": "execute_result"
    }
   ],
   "source": [
    "tab_sex_age.isnull().sum()"
   ]
  },
  {
   "cell_type": "code",
   "execution_count": 349,
   "metadata": {},
   "outputs": [
    {
     "data": {
      "text/html": [
       "<div>\n",
       "<style scoped>\n",
       "    .dataframe tbody tr th:only-of-type {\n",
       "        vertical-align: middle;\n",
       "    }\n",
       "\n",
       "    .dataframe tbody tr th {\n",
       "        vertical-align: top;\n",
       "    }\n",
       "\n",
       "    .dataframe thead th {\n",
       "        text-align: right;\n",
       "    }\n",
       "</style>\n",
       "<table border=\"1\" class=\"dataframe\">\n",
       "  <thead>\n",
       "    <tr style=\"text-align: right;\">\n",
       "      <th></th>\n",
       "      <th>count</th>\n",
       "      <th>mean</th>\n",
       "      <th>std</th>\n",
       "      <th>min</th>\n",
       "      <th>25%</th>\n",
       "      <th>50%</th>\n",
       "      <th>75%</th>\n",
       "      <th>max</th>\n",
       "    </tr>\n",
       "    <tr>\n",
       "      <th>sex</th>\n",
       "      <th></th>\n",
       "      <th></th>\n",
       "      <th></th>\n",
       "      <th></th>\n",
       "      <th></th>\n",
       "      <th></th>\n",
       "      <th></th>\n",
       "      <th></th>\n",
       "    </tr>\n",
       "  </thead>\n",
       "  <tbody>\n",
       "    <tr>\n",
       "      <td>index</td>\n",
       "      <td>54.0</td>\n",
       "      <td>26.500000</td>\n",
       "      <td>15.732133</td>\n",
       "      <td>0.0</td>\n",
       "      <td>13.25</td>\n",
       "      <td>26.5</td>\n",
       "      <td>39.75</td>\n",
       "      <td>53.0</td>\n",
       "    </tr>\n",
       "    <tr>\n",
       "      <td>age</td>\n",
       "      <td>54.0</td>\n",
       "      <td>74.092593</td>\n",
       "      <td>16.561228</td>\n",
       "      <td>39.0</td>\n",
       "      <td>61.25</td>\n",
       "      <td>74.5</td>\n",
       "      <td>87.75</td>\n",
       "      <td>103.0</td>\n",
       "    </tr>\n",
       "    <tr>\n",
       "      <td>Male</td>\n",
       "      <td>54.0</td>\n",
       "      <td>10.500000</td>\n",
       "      <td>8.062843</td>\n",
       "      <td>1.0</td>\n",
       "      <td>3.00</td>\n",
       "      <td>10.5</td>\n",
       "      <td>16.00</td>\n",
       "      <td>29.0</td>\n",
       "    </tr>\n",
       "  </tbody>\n",
       "</table>\n",
       "</div>"
      ],
      "text/plain": [
       "       count       mean        std   min    25%   50%    75%    max\n",
       "sex                                                                \n",
       "index   54.0  26.500000  15.732133   0.0  13.25  26.5  39.75   53.0\n",
       "age     54.0  74.092593  16.561228  39.0  61.25  74.5  87.75  103.0\n",
       "Male    54.0  10.500000   8.062843   1.0   3.00  10.5  16.00   29.0"
      ]
     },
     "execution_count": 349,
     "metadata": {},
     "output_type": "execute_result"
    }
   ],
   "source": [
    "tab_sex_age.describe().T"
   ]
  },
  {
   "cell_type": "code",
   "execution_count": 352,
   "metadata": {},
   "outputs": [
    {
     "data": {
      "image/png": "[encoded data removed]",
      "text/plain": [
       "<Figure size 432x288 with 1 Axes>"
      ]
     },
     "metadata": {
      "needs_background": "light"
     },
     "output_type": "display_data"
    }
   ],
   "source": [
    "#Plot the dataset\n",
    "tab_sex_age.plot(x='age', y='Male', style='.')\n",
    "plt.title('Age vs Male')\n",
    "plt.xlabel('age')\n",
    "plt.ylabel('Male')\n",
    "plt.show()"
   ]
  },
  {
   "cell_type": "code",
   "execution_count": 445,
   "metadata": {},
   "outputs": [],
   "source": [
    "# Set the input data\n",
    "x = tab_sex_age['age']\n",
    "y = tab_sex_age['Male']"
   ]
  },
  {
   "cell_type": "code",
   "execution_count": 447,
   "metadata": {},
   "outputs": [],
   "source": [
    "def plot_prediction(x, y, a, b):\n",
    "    y_pred = a * x + b\n",
    "\n",
    "    plt.scatter(x, y)\n",
    "    plt.plot(x, y_pred, c = \"r\", label = \"prediction\")\n",
    "    plt.xlabel(\"x\")\n",
    "    plt.ylabel(\"y\")\n",
    "    plt.show()"
   ]
  },
  {
   "cell_type": "code",
   "execution_count": 448,
   "metadata": {},
   "outputs": [
    {
     "data": {
      "image/png": "[encoded data removed]",
      "text/plain": [
       "<Figure size 432x288 with 1 Axes>"
      ]
     },
     "metadata": {
      "needs_background": "light"
     },
     "output_type": "display_data"
    }
   ],
   "source": [
    "plot_prediction(x,y, 0.15, 0.3)"
   ]
  },
  {
   "cell_type": "code",
   "execution_count": 423,
   "metadata": {},
   "outputs": [],
   "source": [
    "def compute_loss(x, y, a, b):\n",
    "    y_pred = a * x + b\n",
    "    distances = (y - y_pred) ** 2\n",
    "    return distances.mean()"
   ]
  },
  {
   "cell_type": "code",
   "execution_count": 424,
   "metadata": {},
   "outputs": [
    {
     "data": {
      "text/plain": [
       "52.10597222222222"
      ]
     },
     "execution_count": 424,
     "metadata": {},
     "output_type": "execute_result"
    }
   ],
   "source": [
    "compute_loss(x,y, 0.15, 0.3)"
   ]
  },
  {
   "cell_type": "code",
   "execution_count": 425,
   "metadata": {},
   "outputs": [],
   "source": [
    "def plot_prediction(x, y, a, b):\n",
    "    y_pred = a * x + b\n",
    "\n",
    "    plt.scatter(x, y)\n",
    "    plt.plot(x, y_pred, c = \"r\", label = f\"loss:{compute_loss(x, y, a, b)}\")\n",
    "    plt.xlabel(\"x\")\n",
    "    plt.ylabel(\"y\")\n",
    "    plt.legend()\n",
    "    plt.show()"
   ]
  },
  {
   "cell_type": "code",
   "execution_count": 426,
   "metadata": {},
   "outputs": [
    {
     "data": {
      "image/png": "[encoded data removed]",
      "text/plain": [
       "<Figure size 432x288 with 1 Axes>"
      ]
     },
     "metadata": {
      "needs_background": "light"
     },
     "output_type": "display_data"
    }
   ],
   "source": [
    "plot_prediction(x,y, 0.15, 0.3)"
   ]
  },
  {
   "cell_type": "code",
   "execution_count": null,
   "metadata": {},
   "outputs": [],
   "source": []
  },
  {
   "cell_type": "code",
   "execution_count": 483,
   "metadata": {},
   "outputs": [],
   "source": [
    "def perform_step(x, y, a, b, noise):\n",
    "    a_gradient = -2 / len(x) * np.sum(x * (y - (a * x + b)))\n",
    "    b_gradient = -2 / len(y) * np.sum(y - (a * x + b))\n",
    "    \n",
    "    a_new = a - noise * a_gradient\n",
    "    b_new = b - noise * b_gradient\n",
    "    \n",
    "    return (a_new, b_new)"
   ]
  },
  {
   "cell_type": "code",
   "execution_count": 484,
   "metadata": {},
   "outputs": [
    {
     "name": "stdout",
     "output_type": "stream",
     "text": [
      "1.5589072636373314e+102 2.005665484420071e+100\n"
     ]
    }
   ],
   "source": [
    "a_guess, b_guess = 1, 10\n",
    "learning_rate = 0.001\n",
    "\n",
    "for step in range(100):\n",
    "    a_guess, b_guess = perform_step(x, y, a_guess, b_guess, learning_rate)\n",
    "print(a_guess, b_guess)"
   ]
  },
  {
   "cell_type": "markdown",
   "metadata": {},
   "source": [
    "**Bibliography**\n",
    "- https://en.wikipedia.org/wiki/Chi-squared_test\n",
    "- https://www.statisticssolutions.com/non-parametric-analysis-chi-square/#:~:text=The%20Chi%2DSquare%20test%20of,two%20nominal%20(categorical)%20variables.&text=The%20data%20can%20be%20displayed,category%20for%20the%20other%20variable.\n",
    "- https://www.kaggle.com/nichen301/gss-dataset-a-chi-square-independence-test\n",
    "- https://www.kaggle.com/hamelg/python-for-data-25-chi-squared-tests\n",
    "- https://www.kaggle.com/sagarhmt/about-nobel-prize-winners\n",
    "- https://en.wikipedia.org/wiki/Chi-square_distribution\n",
    "- https://www.kaggle.com/hamelg/exploratory-analysis\n",
    "- https://www.kaggle.com/sagarhmt/about-nobel-prize-winners\n",
    "- http://www.stat.yale.edu/Courses/1997-98/101/linreg.htm\n",
    "- https://en.wikipedia.org/wiki/Simple_linear_regression\n",
    "- https://en.wikipedia.org/wiki/Linear_regression#:~:text=In%20statistics%2C%20linear%20regression%20is,is%20called%20simple%20linear%20regression.\n",
    "- https://stackabuse.com/linear-regression-in-python-with-scikit-learn/\n",
    "\n"
   ]
  },
  {
   "cell_type": "code",
   "execution_count": null,
   "metadata": {},
   "outputs": [],
   "source": []
  }
 ],
 "metadata": {
  "kernelspec": {
   "display_name": "Python 3",
   "language": "python",
   "name": "python3"
  },
  "language_info": {
   "codemirror_mode": {
    "name": "ipython",
    "version": 3
   },
   "file_extension": ".py",
   "mimetype": "text/x-python",
   "name": "python",
   "nbconvert_exporter": "python",
   "pygments_lexer": "ipython3",
   "version": "3.7.4"
  }
 },
 "nbformat": 4,
 "nbformat_minor": 2
}
